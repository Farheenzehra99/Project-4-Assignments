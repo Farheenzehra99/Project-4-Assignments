{
  "nbformat": 4,
  "nbformat_minor": 0,
  "metadata": {
    "colab": {
      "provenance": [],
      "authorship_tag": "ABX9TyM6UNDTTGXWRHDB19K+k+hn",
      "include_colab_link": true
    },
    "kernelspec": {
      "name": "python3",
      "display_name": "Python 3"
    },
    "language_info": {
      "name": "python"
    }
  },
  "cells": [
    {
      "cell_type": "markdown",
      "metadata": {
        "id": "view-in-github",
        "colab_type": "text"
      },
      "source": [
        "<a href=\"https://colab.research.google.com/github/Farheenzehra99/Project-4-Assignments/blob/main/02_Lists.ipynb\" target=\"_parent\"><img src=\"https://colab.research.google.com/assets/colab-badge.svg\" alt=\"Open In Colab\"/></a>"
      ]
    },
    {
      "cell_type": "markdown",
      "source": [
        "**01. Add Many Numbers**"
      ],
      "metadata": {
        "id": "hMI6qT1MWGXj"
      }
    },
    {
      "cell_type": "code",
      "source": [
        "def add_many_numbers(numbers):\n",
        "    \"\"\"\n",
        "    Takes in a list of numbers and returns the sum of those numbers.\n",
        "    \"\"\"\n",
        "    total_so_far = sum(numbers)\n",
        "    return total_so_far\n",
        "\n",
        "\n",
        "def main():\n",
        "    \"\"\"Command-line interface for summing numbers.\"\"\"\n",
        "    try:\n",
        "        numbers = list(map(float, input(\"Enter numbers separated by spaces: \").split()))\n",
        "        sum_of_numbers = add_many_numbers(numbers)\n",
        "        print(f\"The sum of the entered numbers is: {sum_of_numbers}\")\n",
        "    except ValueError:\n",
        "        print(\"Invalid input! Please enter valid numbers separated by spaces.\")\n",
        "\n",
        "\n",
        "if __name__ == \"__main__\":\n",
        "    main()\n"
      ],
      "metadata": {
        "colab": {
          "base_uri": "https://localhost:8080/"
        },
        "id": "zi9ajDUNWes5",
        "outputId": "7592a173-ba1d-4635-8816-93f357383a5d"
      },
      "execution_count": 2,
      "outputs": [
        {
          "output_type": "stream",
          "name": "stdout",
          "text": [
            "Enter numbers separated by spaces: 345\n",
            "The sum of the entered numbers is: 345.0\n"
          ]
        }
      ]
    },
    {
      "cell_type": "markdown",
      "source": [
        "**02. Double List**"
      ],
      "metadata": {
        "id": "6sZ2YUqKWhoj"
      }
    },
    {
      "cell_type": "code",
      "source": [
        "def double_numbers(numbers: list[int]) -> list[int]:\n",
        "    \"\"\"\n",
        "    Takes a list of numbers and returns a new list with each element doubled.\n",
        "    \"\"\"\n",
        "    for i in range(len(numbers)):\n",
        "        numbers[i] *= 2  # Double each element in the list\n",
        "    return numbers\n",
        "\n",
        "\n",
        "def main():\n",
        "    \"\"\"\n",
        "    CLI-based program to double each number in a list.\n",
        "    \"\"\"\n",
        "    numbers = input(\"Enter a list of numbers separated by spaces: \")\n",
        "    numbers = list(map(int, numbers.split()))  # Convert input string to list of integers\n",
        "    doubled_numbers = double_numbers(numbers)\n",
        "    print(\"Doubled list:\", doubled_numbers)\n",
        "\n",
        "\n",
        "if __name__ == \"__main__\":\n",
        "    main()\n"
      ],
      "metadata": {
        "colab": {
          "base_uri": "https://localhost:8080/"
        },
        "id": "6MoSCarQWuTd",
        "outputId": "3178e176-04bc-452c-ffce-b12895b0d3fc"
      },
      "execution_count": 4,
      "outputs": [
        {
          "output_type": "stream",
          "name": "stdout",
          "text": [
            "Enter a list of numbers separated by spaces: 6\n",
            "Doubled list: [12]\n"
          ]
        }
      ]
    },
    {
      "cell_type": "markdown",
      "source": [
        "**03. Erase Canvas**"
      ],
      "metadata": {
        "id": "oMuL6wowXRd_"
      }
    },
    {
      "cell_type": "code",
      "source": [
        "import time  # ⏳ Delay effect ke liye\n",
        "import os    # 🖥️ Screen clear karne ke liye (Windows/Linux)\n",
        "\n",
        "# 📏 Canvas ka size define karein\n",
        "CANVAS_WIDTH = 10   # ⚙️ Columns (width)\n",
        "CANVAS_HEIGHT = 10  # ⚙️ Rows (height)\n",
        "ERASER_SIZE = 2     # 🔲 Eraser ka size\n",
        "\n",
        "# 🎨 Pehle pura canvas blue blocks se bhar dete hain\n",
        "canvas = [['█' for _ in range(CANVAS_WIDTH)] for _ in range(CANVAS_HEIGHT)]\n",
        "\n",
        "def print_canvas():\n",
        "    \"\"\"\n",
        "    🖼️ Yeh function canvas ko print karega aur instructions dega.\n",
        "    \"\"\"\n",
        "    os.system('cls' if os.name == 'nt' else 'clear')  # 🔄 Screen clear karna\n",
        "    for row in canvas:\n",
        "        print(\" \".join(row))  # 📜 Har row ko print karna\n",
        "    print(\"\\n🎮 Move the eraser using W/A/S/D. Press Q to quit.\")\n",
        "\n",
        "def erase(x, y):\n",
        "    \"\"\"\n",
        "    ✏️ Yeh function eraser ke position par canvas clean karega.\n",
        "    \"\"\"\n",
        "    for i in range(max(0, y), min(CANVAS_HEIGHT, y + ERASER_SIZE)):\n",
        "        for j in range(max(0, x), min(CANVAS_WIDTH, x + ERASER_SIZE)):\n",
        "            canvas[i][j] = ' '  # 🧽 Canvas clean karna\n",
        "\n",
        "def main():\n",
        "    \"\"\"\n",
        "    🔄 Yeh function game loop run karega, eraser move karayega, aur canvas update karega.\n",
        "    \"\"\"\n",
        "    eraser_x, eraser_y = 0, 0  # 🎯 Eraser start position\n",
        "    print_canvas()  # 🖥️ Pehli bar canvas dikhana\n",
        "\n",
        "    while True:\n",
        "        command = input(\"🔼🔽🔼 Enter move (W/A/S/D to move, Q to quit): \").strip().lower()\n",
        "\n",
        "        if command == 'q':  # ❌ Quit karna\n",
        "            break\n",
        "        elif command == 'w' and eraser_y > 0:  # 🔼 Up\n",
        "            eraser_y -= 1\n",
        "        elif command == 's' and eraser_y < CANVAS_HEIGHT - ERASER_SIZE:  # 🔽 Down\n",
        "            eraser_y += 1\n",
        "        elif command == 'a' and eraser_x > 0:  # ◀️ Left\n",
        "            eraser_x -= 1\n",
        "        elif command == 'd' and eraser_x < CANVAS_WIDTH - ERASER_SIZE:  # ▶️ Right\n",
        "            eraser_x += 1\n",
        "\n",
        "        erase(eraser_x, eraser_y)  # ✏️ Erase karna\n",
        "        print_canvas()  # 🔄 Update screen\n",
        "        time.sleep(0.1)  # ⏳ Thoda delay for smooth effect\n",
        "\n",
        "# 🚀 Program ko run karne ka tareeqa\n",
        "if __name__ == \"__main__\":\n",
        "    main()"
      ],
      "metadata": {
        "colab": {
          "base_uri": "https://localhost:8080/"
        },
        "id": "Fka7pnpnXXnY",
        "outputId": "7677a7b3-ac57-4e8f-e91b-5aa137a3d8f7"
      },
      "execution_count": 5,
      "outputs": [
        {
          "name": "stdout",
          "output_type": "stream",
          "text": [
            "█ █ █ █ █ █ █ █ █ █\n",
            "█ █ █ █ █ █ █ █ █ █\n",
            "█ █ █ █ █ █ █ █ █ █\n",
            "█ █ █ █ █ █ █ █ █ █\n",
            "█ █ █ █ █ █ █ █ █ █\n",
            "█ █ █ █ █ █ █ █ █ █\n",
            "█ █ █ █ █ █ █ █ █ █\n",
            "█ █ █ █ █ █ █ █ █ █\n",
            "█ █ █ █ █ █ █ █ █ █\n",
            "█ █ █ █ █ █ █ █ █ █\n",
            "\n",
            "🎮 Move the eraser using W/A/S/D. Press Q to quit.\n",
            "🔼🔽🔼 Enter move (W/A/S/D to move, Q to quit): w\n",
            "    █ █ █ █ █ █ █ █\n",
            "    █ █ █ █ █ █ █ █\n",
            "█ █ █ █ █ █ █ █ █ █\n",
            "█ █ █ █ █ █ █ █ █ █\n",
            "█ █ █ █ █ █ █ █ █ █\n",
            "█ █ █ █ █ █ █ █ █ █\n",
            "█ █ █ █ █ █ █ █ █ █\n",
            "█ █ █ █ █ █ █ █ █ █\n",
            "█ █ █ █ █ █ █ █ █ █\n",
            "█ █ █ █ █ █ █ █ █ █\n",
            "\n",
            "🎮 Move the eraser using W/A/S/D. Press Q to quit.\n",
            "🔼🔽🔼 Enter move (W/A/S/D to move, Q to quit): q\n"
          ]
        }
      ]
    },
    {
      "cell_type": "markdown",
      "source": [
        "**04. Flowing With Data Structures**"
      ],
      "metadata": {
        "id": "UX_wnN31Xrvg"
      }
    },
    {
      "cell_type": "code",
      "source": [
        "def add_three_copies(my_list, data):\n",
        "    \"\"\"Adds three copies of data to the provided list.\"\"\"\n",
        "    for _ in range(3):\n",
        "        my_list.append(data)\n",
        "\n",
        "########## No need to edit code past this point ##########\n",
        "\n",
        "def main():\n",
        "    message = input(\"Enter a message to copy: \")\n",
        "    my_list = []\n",
        "    print(\"List before:\", my_list)\n",
        "    add_three_copies(my_list, message)\n",
        "    print(\"List after:\", my_list)\n",
        "\n",
        "if __name__ == \"__main__\":\n",
        "    main()\n"
      ],
      "metadata": {
        "colab": {
          "base_uri": "https://localhost:8080/"
        },
        "id": "oxLJozRuX4Qz",
        "outputId": "7df008c3-bcd1-4e2b-f826-0117eaa62492"
      },
      "execution_count": 6,
      "outputs": [
        {
          "output_type": "stream",
          "name": "stdout",
          "text": [
            "Enter a message to copy: Hello World\n",
            "List before: []\n",
            "List after: ['Hello World', 'Hello World', 'Hello World']\n"
          ]
        }
      ]
    },
    {
      "cell_type": "markdown",
      "source": [
        "**05. Get First Element**"
      ],
      "metadata": {
        "id": "0ecDdmc-YNcr"
      }
    },
    {
      "cell_type": "code",
      "source": [
        "def get_first_element(lst):\n",
        "    \"\"\"\n",
        "    Prints the first element of a provided list.\n",
        "    \"\"\"\n",
        "    print(lst[0])\n",
        "\n",
        "# There is no need to edit code beyond this point\n",
        "\n",
        "def get_lst():\n",
        "    \"\"\"\n",
        "    Prompts the user to enter one element of the list at a time and returns the resulting list.\n",
        "    \"\"\"\n",
        "    lst = []\n",
        "    elem = input(\"Please enter an element of the list or press enter to stop: \")\n",
        "    while elem != \"\":\n",
        "        lst.append(elem)\n",
        "        elem = input(\"Please enter an element of the list or press enter to stop: \")\n",
        "    return lst\n",
        "\n",
        "def main():\n",
        "    lst = get_lst()\n",
        "    get_first_element(lst)\n",
        "\n",
        "if __name__ == '__main__':\n",
        "    main()\n"
      ],
      "metadata": {
        "colab": {
          "base_uri": "https://localhost:8080/"
        },
        "id": "-0JsjQKKYUOf",
        "outputId": "28490def-27e1-4f5c-f11f-081646ca704e"
      },
      "execution_count": 7,
      "outputs": [
        {
          "output_type": "stream",
          "name": "stdout",
          "text": [
            "Please enter an element of the list or press enter to stop: book\n",
            "Please enter an element of the list or press enter to stop: copy\n",
            "Please enter an element of the list or press enter to stop: pen\n",
            "Please enter an element of the list or press enter to stop: pencil\n",
            "Please enter an element of the list or press enter to stop: \n",
            "book\n"
          ]
        }
      ]
    },
    {
      "cell_type": "markdown",
      "source": [
        "**06. Get Last Element**"
      ],
      "metadata": {
        "id": "tueuIXEMYdnO"
      }
    },
    {
      "cell_type": "code",
      "source": [
        "def get_last_element(lst):\n",
        "    \"\"\"Prints the last element of the provided list.\"\"\"\n",
        "    print(\"Last Element:\", lst[-1])\n",
        "\n",
        "\n",
        "def get_lst():\n",
        "    \"\"\"Prompts the user to enter one element of the list at a time and returns the resulting list.\"\"\"\n",
        "    lst = []\n",
        "    elem = input(\"Please enter an element of the list or press enter to stop: \")\n",
        "    while elem != \"\":\n",
        "        lst.append(elem)\n",
        "        elem = input(\"Please enter an element of the list or press enter to stop: \")\n",
        "    return lst\n",
        "\n",
        "\n",
        "def main():\n",
        "    lst = get_lst()\n",
        "    get_last_element(lst)\n",
        "\n",
        "\n",
        "if __name__ == \"__main__\":\n",
        "    main()\n"
      ],
      "metadata": {
        "colab": {
          "base_uri": "https://localhost:8080/"
        },
        "id": "pH-6MUEFYnTl",
        "outputId": "24ae709e-533e-4f1f-b389-6aff9a5b203e"
      },
      "execution_count": 8,
      "outputs": [
        {
          "output_type": "stream",
          "name": "stdout",
          "text": [
            "Please enter an element of the list or press enter to stop: copy\n",
            "Please enter an element of the list or press enter to stop: pen\n",
            "Please enter an element of the list or press enter to stop: pencil\n",
            "Please enter an element of the list or press enter to stop: \n",
            "Last Element: pencil\n"
          ]
        }
      ]
    },
    {
      "cell_type": "markdown",
      "source": [
        "**07. Get List**"
      ],
      "metadata": {
        "id": "bUVVx_1vY9vN"
      }
    },
    {
      "cell_type": "code",
      "source": [
        "def main():\n",
        "    lst = []  # Initialize an empty list\n",
        "\n",
        "    while True:\n",
        "        val = input(\"Enter a value: \")  # Prompt user for input\n",
        "        if val == \"\":  # Stop when input is empty\n",
        "            break\n",
        "        lst.append(val)  # Add input to the list\n",
        "\n",
        "    print(\"Here's the list:\", lst)\n",
        "\n",
        "if __name__ == '__main__':\n",
        "    main()\n"
      ],
      "metadata": {
        "colab": {
          "base_uri": "https://localhost:8080/"
        },
        "id": "EPEZSwKVZQmU",
        "outputId": "3128513d-5f58-4d0e-a242-84e248f3d758"
      },
      "execution_count": 10,
      "outputs": [
        {
          "output_type": "stream",
          "name": "stdout",
          "text": [
            "Enter a value: pen\n",
            "Enter a value: pencil\n",
            "Enter a value: copy\n",
            "Enter a value: \n",
            "Here's the list: ['pen', 'pencil', 'copy']\n"
          ]
        }
      ]
    },
    {
      "cell_type": "markdown",
      "source": [
        "**08. Shorten**"
      ],
      "metadata": {
        "id": "ZwpPovoYZnKD"
      }
    },
    {
      "cell_type": "code",
      "source": [
        "MAX_LENGTH: int = 3\n",
        "\n",
        "def shorten(lst):\n",
        "    \"\"\"Removes elements from the end of lst until its length is MAX_LENGTH.\"\"\"\n",
        "    while len(lst) > MAX_LENGTH:\n",
        "        last_elem = lst.pop()\n",
        "        print(f\"Removed: {last_elem}\")\n",
        "\n",
        "def get_lst():\n",
        "    \"\"\"Prompts the user to enter elements one by one and returns the list.\"\"\"\n",
        "    lst = []\n",
        "    while True:\n",
        "        elem = input(\"Enter an element (or press Enter to stop): \")\n",
        "        if elem == \"\":\n",
        "            break\n",
        "        lst.append(elem)\n",
        "    return lst\n",
        "\n",
        "def main():\n",
        "    \"\"\"Main function to get user input and process list shortening.\"\"\"\n",
        "    lst = get_lst()\n",
        "    print(\"Original List:\", lst)\n",
        "    shorten(lst)\n",
        "    print(\"Final List:\", lst)\n",
        "\n",
        "if __name__ == '__main__':\n",
        "    main()\n"
      ],
      "metadata": {
        "colab": {
          "base_uri": "https://localhost:8080/"
        },
        "id": "K59jH5VAZuTj",
        "outputId": "a16edfb0-a303-4bea-c282-885a00d6679b"
      },
      "execution_count": 11,
      "outputs": [
        {
          "output_type": "stream",
          "name": "stdout",
          "text": [
            "Enter an element (or press Enter to stop): pen\n",
            "Enter an element (or press Enter to stop): pencil\n",
            "Enter an element (or press Enter to stop): book\n",
            "Enter an element (or press Enter to stop): copy\n",
            "Enter an element (or press Enter to stop): \n",
            "Original List: ['pen', 'pencil', 'book', 'copy']\n",
            "Removed: copy\n",
            "Final List: ['pen', 'pencil', 'book']\n"
          ]
        }
      ]
    }
  ]
}
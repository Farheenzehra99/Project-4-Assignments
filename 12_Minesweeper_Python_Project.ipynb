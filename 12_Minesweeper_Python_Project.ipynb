{
  "nbformat": 4,
  "nbformat_minor": 0,
  "metadata": {
    "colab": {
      "provenance": [],
      "authorship_tag": "ABX9TyMP/mJgRESeCEuavFHRNXyA",
      "include_colab_link": true
    },
    "kernelspec": {
      "name": "python3",
      "display_name": "Python 3"
    },
    "language_info": {
      "name": "python"
    }
  },
  "cells": [
    {
      "cell_type": "markdown",
      "metadata": {
        "id": "view-in-github",
        "colab_type": "text"
      },
      "source": [
        "<a href=\"https://colab.research.google.com/github/Farheenzehra99/Project-4-Assignments/blob/main/12_Minesweeper_Python_Project.ipynb\" target=\"_parent\"><img src=\"https://colab.research.google.com/assets/colab-badge.svg\" alt=\"Open In Colab\"/></a>"
      ]
    },
    {
      "cell_type": "markdown",
      "source": [
        "**Project 12_Minesweeper**"
      ],
      "metadata": {
        "id": "bSg-YxwX4h8U"
      }
    },
    {
      "cell_type": "code",
      "source": [
        "import random\n",
        "from colorama import Fore, Style, init\n",
        "\n",
        "init(autoreset=True)\n",
        "\n",
        "class Board:\n",
        "    def __init__(self, dim_size, num_bombs):\n",
        "        self.dim_size = dim_size\n",
        "        self.num_bombs = num_bombs\n",
        "        self.board = self.make_new_board()\n",
        "        self.assign_values_to_board()\n",
        "        self.dug = set()\n",
        "\n",
        "    def make_new_board(self):\n",
        "        board = [[None for _ in range(self.dim_size)] for _ in range(self.dim_size)]\n",
        "        bombs_planted = 0\n",
        "\n",
        "        while bombs_planted < self.num_bombs:\n",
        "            loc = random.randint(0, self.dim_size**2 - 1)\n",
        "            row = loc // self.dim_size\n",
        "            col = loc % self.dim_size\n",
        "\n",
        "            if board[row][col] == -1:\n",
        "                continue\n",
        "\n",
        "            board[row][col] = -1\n",
        "            bombs_planted += 1\n",
        "\n",
        "        return board\n",
        "\n",
        "    def assign_values_to_board(self):\n",
        "        for r in range(self.dim_size):\n",
        "            for c in range(self.dim_size):\n",
        "                if self.board[r][c] == -1:\n",
        "                    continue\n",
        "                self.board[r][c] = self.get_num_neighboring_bombs(r, c)\n",
        "\n",
        "    def get_num_neighboring_bombs(self, row, col):\n",
        "        num_bombs = 0\n",
        "        for r in range(max(0, row - 1), min(self.dim_size, row + 2)):\n",
        "            for c in range(max(0, col - 1), min(self.dim_size, col + 2)):\n",
        "                if r == row and c == col:\n",
        "                    continue\n",
        "                if self.board[r][c] == -1:\n",
        "                    num_bombs += 1\n",
        "        return num_bombs\n",
        "\n",
        "    def dig(self, row, col):\n",
        "        self.dug.add((row, col))\n",
        "        if self.board[row][col] == -1:\n",
        "            return False\n",
        "        elif self.board[row][col] > 0:\n",
        "            return True\n",
        "\n",
        "        for r in range(max(0, row - 1), min(self.dim_size, row + 2)):\n",
        "            for c in range(max(0, col - 1), min(self.dim_size, col + 2)):\n",
        "                if (r, c) in self.dug:\n",
        "                    continue\n",
        "                self.dig(r, c)\n",
        "\n",
        "        return True\n",
        "\n",
        "    def __str__(self):\n",
        "        visible_board = [[None for _ in range(self.dim_size)] for _ in range(self.dim_size)]\n",
        "\n",
        "        for r in range(self.dim_size):\n",
        "            for c in range(self.dim_size):\n",
        "                if (r, c) in self.dug:\n",
        "                    if self.board[r][c] == -1:\n",
        "                        visible_board[r][c] = Fore.RED + '💣'\n",
        "                    elif self.board[r][c] == 0:\n",
        "                        visible_board[r][c] = '⬜'\n",
        "                    else:\n",
        "                        visible_board[r][c] = Fore.GREEN + str(self.board[r][c])\n",
        "                else:\n",
        "                    visible_board[r][c] = '🟦'\n",
        "\n",
        "        return '\\n'.join([' '.join(row) for row in visible_board])\n",
        "\n",
        "\n",
        "def play(dim_size=10, num_bombs=10):\n",
        "    board = Board(dim_size, num_bombs)\n",
        "\n",
        "    safe = True\n",
        "\n",
        "    while len(board.dug) < dim_size ** 2 - num_bombs:\n",
        "        print(board)\n",
        "        try:\n",
        "            user_input = input(\"Enter row and column to dig (e.g., 0 3): \")\n",
        "            row, col = map(int, user_input.split())\n",
        "        except ValueError:\n",
        "            print(Fore.YELLOW + \"❗ Invalid input. Please enter two numbers separated by space.\")\n",
        "            continue\n",
        "\n",
        "        if row < 0 or row >= dim_size or col < 0 or col >= dim_size:\n",
        "            print(Fore.YELLOW + \"❗ Invalid location. Try within board limits.\")\n",
        "            continue\n",
        "\n",
        "        safe = board.dig(row, col)\n",
        "        if not safe:\n",
        "            break\n",
        "\n",
        "    if safe:\n",
        "        print(Fore.GREEN + \"🎉 CONGRATS! You cleared the board!\")\n",
        "    else:\n",
        "        print(Fore.RED + \"💥 BOOM! You hit a bomb!\")\n",
        "        board.dug = {(r, c) for r in range(dim_size) for c in range(dim_size)}\n",
        "        print(board)\n",
        "\n",
        "if __name__ == '__main__':\n",
        "    play()\n"
      ],
      "metadata": {
        "id": "Wow-8vXn3a6V"
      },
      "execution_count": null,
      "outputs": []
    },
    {
      "cell_type": "markdown",
      "source": [],
      "metadata": {
        "id": "qtfi8Mpe4TSp"
      }
    },
    {
      "cell_type": "code",
      "execution_count": null,
      "metadata": {
        "id": "bSzztXVCtw8c"
      },
      "outputs": [],
      "source": [
        "!pip install colorama\n"
      ]
    }
  ]
}
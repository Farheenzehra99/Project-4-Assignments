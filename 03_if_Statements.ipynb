{
  "nbformat": 4,
  "nbformat_minor": 0,
  "metadata": {
    "colab": {
      "provenance": [],
      "authorship_tag": "ABX9TyMpILd0JADF3/gH2gr4/wXR",
      "include_colab_link": true
    },
    "kernelspec": {
      "name": "python3",
      "display_name": "Python 3"
    },
    "language_info": {
      "name": "python"
    }
  },
  "cells": [
    {
      "cell_type": "markdown",
      "metadata": {
        "id": "view-in-github",
        "colab_type": "text"
      },
      "source": [
        "<a href=\"https://colab.research.google.com/github/Farheenzehra99/Project-4-Assignments/blob/main/03_if_Statements.ipynb\" target=\"_parent\"><img src=\"https://colab.research.google.com/assets/colab-badge.svg\" alt=\"Open In Colab\"/></a>"
      ]
    },
    {
      "cell_type": "markdown",
      "source": [
        "**01. Print Events**"
      ],
      "metadata": {
        "id": "CNJUVIycloyK"
      }
    },
    {
      "cell_type": "code",
      "source": [
        "def main():\n",
        "    \"\"\"\n",
        "    Prints the first 20 even numbers in a single line.\n",
        "    \"\"\"\n",
        "    for i in range(20):  # Loop 20 times\n",
        "        print(i * 2, end=\" \")  # Multiply each number by 2 to get even numbers\n",
        "    print()  # Prints a new line after the loop ends\n",
        "\n",
        "# This ensures the script runs only when executed directly\n",
        "if __name__ == \"__main__\":\n",
        "    main()"
      ],
      "metadata": {
        "colab": {
          "base_uri": "https://localhost:8080/"
        },
        "id": "XW7iHV3DluGF",
        "outputId": "3e857f9c-3787-45eb-df9f-41c41ccb7dd8"
      },
      "execution_count": 1,
      "outputs": [
        {
          "output_type": "stream",
          "name": "stdout",
          "text": [
            "0 2 4 6 8 10 12 14 16 18 20 22 24 26 28 30 32 34 36 38 \n"
          ]
        }
      ]
    },
    {
      "cell_type": "markdown",
      "source": [
        "**02. International Voting Age**"
      ],
      "metadata": {
        "id": "5BPomK00l04N"
      }
    },
    {
      "cell_type": "code",
      "source": [
        "# Defining the minimum voting ages for three fictional countries\n",
        "VOTING_AGE_A = 16  # Country A (e.g., NeoLand)\n",
        "VOTING_AGE_B = 25  # Country B (e.g., Eldoria)\n",
        "VOTING_AGE_C = 48  # Country C (e.g., Grayshore)\n",
        "\n",
        "def check_voting_eligibility():\n",
        "    \"\"\"\n",
        "    Asks the user for their age and checks if they are eligible to vote\n",
        "    in three different fictional countries.\n",
        "    \"\"\"\n",
        "    # Taking user input and converting it to an integer\n",
        "    user_age = int(input(\"Enter your age: \"))\n",
        "\n",
        "    # Checking voting eligibility for Country A\n",
        "    if user_age >= VOTING_AGE_A:\n",
        "        print(f\"You can vote in NeoLand where the voting age is {VOTING_AGE_A}.\")\n",
        "    else:\n",
        "        print(f\"You cannot vote in NeoLand where the voting age is {VOTING_AGE_A}.\")\n",
        "\n",
        "    # Checking voting eligibility for Country B\n",
        "    if user_age >= VOTING_AGE_B:\n",
        "        print(f\"You can vote in Eldoria where the voting age is {VOTING_AGE_B}.\")\n",
        "    else:\n",
        "        print(f\"You cannot vote in Eldoria where the voting age is {VOTING_AGE_B}.\")\n",
        "\n",
        "    # Checking voting eligibility for Country C\n",
        "    if user_age >= VOTING_AGE_C:\n",
        "        print(f\"You can vote in Grayshore where the voting age is {VOTING_AGE_C}.\")\n",
        "    else:\n",
        "        print(f\"You cannot vote in Grayshore where the voting age is {VOTING_AGE_C}.\")\n",
        "\n",
        "# Running the function only when the script is executed directly\n",
        "if __name__ == \"__main__\":\n",
        "    check_voting_eligibility()"
      ],
      "metadata": {
        "colab": {
          "base_uri": "https://localhost:8080/"
        },
        "id": "9RDLnIpzl7W2",
        "outputId": "66b8511c-7419-4c01-880e-a1aa4f36b05f"
      },
      "execution_count": 2,
      "outputs": [
        {
          "output_type": "stream",
          "name": "stdout",
          "text": [
            "Enter your age: 14\n",
            "You cannot vote in NeoLand where the voting age is 16.\n",
            "You cannot vote in Eldoria where the voting age is 25.\n",
            "You cannot vote in Grayshore where the voting age is 48.\n"
          ]
        }
      ]
    },
    {
      "cell_type": "markdown",
      "source": [
        "**03. Leap Year**"
      ],
      "metadata": {
        "id": "agOgZ0KSmHO0"
      }
    },
    {
      "cell_type": "code",
      "source": [
        "def is_leap_year(year):\n",
        "    \"\"\"Determines if a given year is a leap year.\"\"\"\n",
        "    if year % 4 == 0:\n",
        "        if year % 100 == 0:\n",
        "            if year % 400 == 0:\n",
        "                return True\n",
        "            else:\n",
        "                return False\n",
        "        else:\n",
        "            return True\n",
        "    else:\n",
        "        return False\n",
        "\n",
        "def main():\n",
        "    try:\n",
        "        year = int(input(\"Please enter a year: \"))\n",
        "        if is_leap_year(year):\n",
        "            print(\"That's a leap year!\")\n",
        "        else:\n",
        "            print(\"That's not a leap year.\")\n",
        "    except ValueError:\n",
        "        print(\"Invalid input! Please enter a valid year.\")\n",
        "\n",
        "if __name__ == \"__main__\":\n",
        "    main()\n"
      ],
      "metadata": {
        "colab": {
          "base_uri": "https://localhost:8080/"
        },
        "id": "gNHRlceqmMba",
        "outputId": "414f9af8-536e-4159-ac7f-ed8f72d65999"
      },
      "execution_count": 3,
      "outputs": [
        {
          "output_type": "stream",
          "name": "stdout",
          "text": [
            "Please enter a year: 2022\n",
            "That's not a leap year.\n"
          ]
        }
      ]
    },
    {
      "cell_type": "markdown",
      "source": [
        "**04. Tall Enough To Ride**"
      ],
      "metadata": {
        "id": "8-fLPa3ymYn7"
      }
    },
    {
      "cell_type": "code",
      "source": [
        "MINIMUM_HEIGHT = 50  # Minimum height required to ride\n",
        "\n",
        "def main():\n",
        "    while True:\n",
        "        height = input(\"How tall are you? (Press enter to exit) \")\n",
        "        if height == \"\":\n",
        "            break\n",
        "\n",
        "        try:\n",
        "            height = float(height)\n",
        "            if height >= MINIMUM_HEIGHT:\n",
        "                print(\"You're tall enough to ride!\")\n",
        "            else:\n",
        "                print(\"You're not tall enough to ride, but maybe next year!\")\n",
        "        except ValueError:\n",
        "            print(\"Please enter a valid number.\")\n",
        "\n",
        "if __name__ == '__main__':\n",
        "    main()\n"
      ],
      "metadata": {
        "colab": {
          "base_uri": "https://localhost:8080/"
        },
        "id": "oCHi5orkmd5L",
        "outputId": "a7b79345-8f49-44cf-f11f-970c349ec90d"
      },
      "execution_count": 4,
      "outputs": [
        {
          "name": "stdout",
          "output_type": "stream",
          "text": [
            "How tall are you? (Press enter to exit) 5\n",
            "You're not tall enough to ride, but maybe next year!\n",
            "How tall are you? (Press enter to exit) exit\n",
            "Please enter a valid number.\n",
            "How tall are you? (Press enter to exit) \n"
          ]
        }
      ]
    },
    {
      "cell_type": "markdown",
      "source": [
        "**05. Random Numbers**"
      ],
      "metadata": {
        "id": "xeG-BU8hmnaI"
      }
    },
    {
      "cell_type": "code",
      "source": [
        "import random\n",
        "\n",
        "def main():\n",
        "    N_NUMBERS = 10\n",
        "    MIN_VALUE = 1\n",
        "    MAX_VALUE = 100\n",
        "\n",
        "    random_numbers = [random.randint(MIN_VALUE, MAX_VALUE) for _ in range(N_NUMBERS)]\n",
        "    print(\" \".join(map(str, random_numbers)))\n",
        "\n",
        "if __name__ == '__main__':\n",
        "    main()\n"
      ],
      "metadata": {
        "colab": {
          "base_uri": "https://localhost:8080/"
        },
        "id": "1Rlf58Kam7LJ",
        "outputId": "60e0a910-ad9e-4f93-8a99-dbbd28dfd012"
      },
      "execution_count": 6,
      "outputs": [
        {
          "output_type": "stream",
          "name": "stdout",
          "text": [
            "55 98 19 79 60 2 68 46 5 56\n"
          ]
        }
      ]
    }
  ]
}
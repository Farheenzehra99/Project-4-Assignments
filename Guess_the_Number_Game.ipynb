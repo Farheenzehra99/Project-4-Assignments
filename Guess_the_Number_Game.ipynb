{
  "nbformat": 4,
  "nbformat_minor": 0,
  "metadata": {
    "colab": {
      "provenance": [],
      "authorship_tag": "ABX9TyNFhCjUMYQRzhh7zIsGvsgB",
      "include_colab_link": true
    },
    "kernelspec": {
      "name": "python3",
      "display_name": "Python 3"
    },
    "language_info": {
      "name": "python"
    }
  },
  "cells": [
    {
      "cell_type": "markdown",
      "metadata": {
        "id": "view-in-github",
        "colab_type": "text"
      },
      "source": [
        "<a href=\"https://colab.research.google.com/github/Farheenzehra99/Project-4-Assignments/blob/main/Guess_the_Number_Game.ipynb\" target=\"_parent\"><img src=\"https://colab.research.google.com/assets/colab-badge.svg\" alt=\"Open In Colab\"/></a>"
      ]
    },
    {
      "cell_type": "markdown",
      "source": [
        "**Project 02: 🎮 Guess the Number Game (Computer)**"
      ],
      "metadata": {
        "id": "7Xy8JxiJouod"
      }
    },
    {
      "cell_type": "code",
      "source": [
        "import random\n",
        "import time\n",
        "\n",
        "# 🎉 Welcome Message\n",
        "print(\"\\n🎯 Welcome to the 'Guess the Number' Game! 🤖\")\n",
        "print(\"🔮 The computer has chosen a number between 1 and 20.\")\n",
        "print(\"💡 Your job is to guess it as fast as possible! Good luck! 🍀\\n\")\n",
        "\n",
        "# 🎲 Computer randomly selects a number\n",
        "number_to_guess = random.randint(1, 20)\n",
        "\n",
        "# 🕒 Start the timer\n",
        "start_time = time.time()\n",
        "\n",
        "# 🎮 Player's Guessing Loop\n",
        "attempts = 0\n",
        "while True:\n",
        "    try:\n",
        "        # 📝 Taking user input\n",
        "        player_guess = int(input(\"🤔 Enter your guess (1-20): \"))\n",
        "        attempts += 1  # Counting attempts\n",
        "\n",
        "        # 🚀 Checking the guess\n",
        "        if player_guess < 1 or player_guess > 20:\n",
        "            print(\"⚠️ Out of range! Please enter a number between 1 and 100.\")\n",
        "        elif player_guess < number_to_guess:\n",
        "            print(\"📉 Too low! Try again 🔽\")\n",
        "        elif player_guess > number_to_guess:\n",
        "            print(\"📈 Too high! Try again 🔼\")\n",
        "        else:\n",
        "            # 🎉 Player guessed correctly!\n",
        "            end_time = time.time()\n",
        "            total_time = round(end_time - start_time, 2)\n",
        "            print(\"\\n🎊 Congratulations! You guessed the correct number! 🎯🎉\")\n",
        "            print(f\"✅ Number: {number_to_guess} | 🔢 Attempts: {attempts} | ⏳ Time Taken: {total_time} seconds\")\n",
        "            break\n",
        "\n",
        "    except ValueError:\n",
        "        print(\"⚠️ Invalid input! Please enter a **number** between 1 and 20.\")\n"
      ],
      "metadata": {
        "colab": {
          "base_uri": "https://localhost:8080/"
        },
        "id": "2PHiPExJp6AV",
        "outputId": "1982174d-dc46-4551-ff26-6c9af0196b7a"
      },
      "execution_count": null,
      "outputs": [
        {
          "output_type": "stream",
          "name": "stdout",
          "text": [
            "\n",
            "🎯 Welcome to the 'Guess the Number' Game! 🤖\n",
            "🔮 The computer has chosen a number between 1 and 20.\n",
            "💡 Your job is to guess it as fast as possible! Good luck! 🍀\n",
            "\n",
            "🤔 Enter your guess (1-20): 2\n",
            "📉 Too low! Try again 🔽\n",
            "🤔 Enter your guess (1-20): 18\n",
            "📈 Too high! Try again 🔼\n",
            "🤔 Enter your guess (1-20): 15\n",
            "📈 Too high! Try again 🔼\n",
            "🤔 Enter your guess (1-20): 111\n",
            "⚠️ Out of range! Please enter a number between 1 and 100.\n",
            "🤔 Enter your guess (1-20): 11\n",
            "📉 Too low! Try again 🔽\n",
            "🤔 Enter your guess (1-20): 13\n",
            "📉 Too low! Try again 🔽\n",
            "🤔 Enter your guess (1-20): 14\n",
            "\n",
            "🎊 Congratulations! You guessed the correct number! 🎯🎉\n",
            "✅ Number: 14 | 🔢 Attempts: 7 | ⏳ Time Taken: 374.34 seconds\n"
          ]
        }
      ]
    }
  ]
}
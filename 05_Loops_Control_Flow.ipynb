{
  "nbformat": 4,
  "nbformat_minor": 0,
  "metadata": {
    "colab": {
      "provenance": [],
      "authorship_tag": "ABX9TyNbx5rtULJu5quK/IKjulqu",
      "include_colab_link": true
    },
    "kernelspec": {
      "name": "python3",
      "display_name": "Python 3"
    },
    "language_info": {
      "name": "python"
    }
  },
  "cells": [
    {
      "cell_type": "markdown",
      "metadata": {
        "id": "view-in-github",
        "colab_type": "text"
      },
      "source": [
        "<a href=\"https://colab.research.google.com/github/Farheenzehra99/Project-4-Assignments/blob/main/05_Loops_Control_Flow.ipynb\" target=\"_parent\"><img src=\"https://colab.research.google.com/assets/colab-badge.svg\" alt=\"Open In Colab\"/></a>"
      ]
    },
    {
      "cell_type": "markdown",
      "source": [
        "**00. Guess My Number**"
      ],
      "metadata": {
        "id": "xKpCo2fPu-AO"
      }
    },
    {
      "cell_type": "code",
      "source": [
        "import random\n",
        "\n",
        "def main():\n",
        "    # Generate the secret number at random!\n",
        "    secret_number = random.randint(1, 200)  # Now the range is 1 to 200\n",
        "\n",
        "    print(\"I am thinking of a number between 1 and 200... 🤔\")\n",
        "\n",
        "    # Get user's guess\n",
        "    guess = int(input(\"🔢 Enter a guess: \"))\n",
        "\n",
        "    # Loop until the user guesses correctly\n",
        "    while guess != secret_number:\n",
        "        if guess < secret_number:\n",
        "            print(\"⬆️ Your guess is too low!\")\n",
        "        else:\n",
        "            print(\"⬇️ Your guess is too high!\")\n",
        "\n",
        "        print()  # Print an empty line for better readability\n",
        "        guess = int(input(\"🔄 Enter a new guess: \"))  # Get a new guess\n",
        "\n",
        "    print(f\"🎉 Congrats! The number was: {secret_number} 🎯\")\n",
        "\n",
        "if __name__ == '__main__':\n",
        "    main()"
      ],
      "metadata": {
        "id": "OZQ7EHayvP7e"
      },
      "execution_count": null,
      "outputs": []
    },
    {
      "cell_type": "markdown",
      "source": [
        "**01. Fibonacci**"
      ],
      "metadata": {
        "id": "1d3K3ZqxvZA9"
      }
    },
    {
      "cell_type": "code",
      "source": [
        "MAX_TERM_VALUE = 10000\n",
        "\n",
        "def fibonacci_sequence():\n",
        "    curr_term, next_term = 0, 1\n",
        "    while curr_term <= MAX_TERM_VALUE:\n",
        "        print(curr_term, end=\" \")\n",
        "        curr_term, next_term = next_term, curr_term + next_term\n",
        "\n",
        "def main():\n",
        "    print(\"Fibonacci Sequence up to\", MAX_TERM_VALUE, \":\")\n",
        "    fibonacci_sequence()\n",
        "\n",
        "if __name__ == '__main__':\n",
        "    main()\n",
        "\n"
      ],
      "metadata": {
        "id": "re6GxhrRveON"
      },
      "execution_count": null,
      "outputs": []
    },
    {
      "cell_type": "markdown",
      "source": [
        "**02. Print Events**"
      ],
      "metadata": {
        "id": "U6O4HOsAvg9n"
      }
    },
    {
      "cell_type": "code",
      "source": [
        "def main():\n",
        "    # Loop to print the first 15 odd numbers\n",
        "    for i in range(15):\n",
        "        print(i * 2 + 1)  # Generating odd numbers\n",
        "\n",
        "# Standard Python boilerplate to call main function\n",
        "if __name__ == \"__main__\":\n",
        "    main()"
      ],
      "metadata": {
        "id": "qnix8jUwvs5b"
      },
      "execution_count": null,
      "outputs": []
    },
    {
      "cell_type": "markdown",
      "source": [
        "**03. Wholesome Machine**"
      ],
      "metadata": {
        "id": "BC8FQBiDwcxy"
      }
    },
    {
      "cell_type": "code",
      "source": [
        "def main():\n",
        "    AFFIRMATION = \"I am strong, confident, and capable of achieving my goals.\"\n",
        "\n",
        "    print(\"Please type the following affirmation: \")\n",
        "    print(AFFIRMATION)\n",
        "\n",
        "    user_feedback = input(\"> \")  # Get user's input\n",
        "\n",
        "    while user_feedback != AFFIRMATION:  # Repeat until the correct affirmation is entered\n",
        "        print(\"\\nThat was not the affirmation. Try again!\")\n",
        "        print(\"Please type the following affirmation: \")\n",
        "        print(AFFIRMATION)\n",
        "        user_feedback = input(\"> \")\n",
        "\n",
        "    print(\"\\nThat's right! Keep believing in yourself! 😊\")\n",
        "\n",
        "# Required to run the main function\n",
        "if __name__ == \"__main__\":\n",
        "    main()"
      ],
      "metadata": {
        "id": "lXxmj9Pfwkb1"
      },
      "execution_count": null,
      "outputs": []
    },
    {
      "cell_type": "markdown",
      "source": [
        "**04. Liftoff**"
      ],
      "metadata": {
        "id": "O8287Tf_wyCG"
      }
    },
    {
      "cell_type": "code",
      "source": [
        "import time\n",
        "\n",
        "def countdown_timer():\n",
        "    print(\"🚀 Preparing for launch...\")\n",
        "\n",
        "    for i in range(5, 0, -1):  # Countdown from 5 to 1\n",
        "        print(i)\n",
        "        time.sleep(1)  # Adding a 1-second delay for a real countdown effect\n",
        "\n",
        "    print(\"🔥 Blastoff! The mission has started! 🚀\")\n",
        "\n",
        "# Run the countdown\n",
        "if __name__ == \"__main__\":\n",
        "    countdown_timer()"
      ],
      "metadata": {
        "id": "iGaMHqMYw1KG"
      },
      "execution_count": null,
      "outputs": []
    },
    {
      "cell_type": "markdown",
      "source": [
        "**05. Double it**"
      ],
      "metadata": {
        "id": "pSRBNGMWw-im"
      }
    },
    {
      "cell_type": "code",
      "source": [
        "def double_until_threshold():\n",
        "    print(\"Number Doubling Program\")\n",
        "\n",
        "    number = int(input(\"Enter a number: \"))\n",
        "\n",
        "    curr_value = number\n",
        "    result = []\n",
        "\n",
        "    while curr_value < 100:\n",
        "        curr_value *= 2\n",
        "        result.append(curr_value)\n",
        "\n",
        "    print(\"Doubled Values:\")\n",
        "    print(\" \".join(map(str, result)))\n",
        "\n",
        "if __name__ == \"__main__\":\n",
        "    double_until_threshold()\n"
      ],
      "metadata": {
        "id": "BiIafjScxB-3"
      },
      "execution_count": null,
      "outputs": []
    }
  ]
}
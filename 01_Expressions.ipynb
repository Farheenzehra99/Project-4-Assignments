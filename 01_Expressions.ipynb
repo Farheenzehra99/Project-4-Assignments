{
  "nbformat": 4,
  "nbformat_minor": 0,
  "metadata": {
    "colab": {
      "provenance": [],
      "authorship_tag": "ABX9TyPcCvb3VvGQHZSySrULEcBs",
      "include_colab_link": true
    },
    "kernelspec": {
      "name": "python3",
      "display_name": "Python 3"
    },
    "language_info": {
      "name": "python"
    }
  },
  "cells": [
    {
      "cell_type": "markdown",
      "metadata": {
        "id": "view-in-github",
        "colab_type": "text"
      },
      "source": [
        "<a href=\"https://colab.research.google.com/github/Farheenzehra99/Project-4-Assignments/blob/main/01_Expressions.ipynb\" target=\"_parent\"><img src=\"https://colab.research.google.com/assets/colab-badge.svg\" alt=\"Open In Colab\"/></a>"
      ]
    },
    {
      "cell_type": "markdown",
      "source": [
        "**01. Dicesimulator**"
      ],
      "metadata": {
        "id": "RHHYaLSQRObf"
      }
    },
    {
      "cell_type": "code",
      "source": [
        "import random\n",
        "\n",
        "# Number of sides on each die to roll\n",
        "NUM_SIDES = 6\n",
        "\n",
        "def roll_dice():\n",
        "    \"\"\"\n",
        "    Simulates rolling two dice and prints their total\n",
        "    \"\"\"\n",
        "    die1 = random.randint(1, NUM_SIDES)\n",
        "    die2 = random.randint(1, NUM_SIDES)\n",
        "    total = die1 + die2\n",
        "    print(f\"Rolled: {die1} and {die2}, Total: {total}\")\n",
        "\n",
        "def main():\n",
        "    die1 = 10  # Variable scope demonstration\n",
        "    print(f\"die1 in main() starts as: {die1}\")\n",
        "\n",
        "    # Roll the dice three times\n",
        "    for _ in range(3):\n",
        "        roll_dice()\n",
        "\n",
        "    print(f\"die1 in main() is: {die1}\")\n",
        "\n",
        "if __name__ == '__main__':\n",
        "    main()\n",
        "\n"
      ],
      "metadata": {
        "colab": {
          "base_uri": "https://localhost:8080/"
        },
        "id": "D3LlTsTdRo6C",
        "outputId": "87afff6b-0eda-4cc1-8f86-ca61a7667ffd"
      },
      "execution_count": 1,
      "outputs": [
        {
          "output_type": "stream",
          "name": "stdout",
          "text": [
            "die1 in main() starts as: 10\n",
            "Rolled: 6 and 1, Total: 7\n",
            "Rolled: 2 and 5, Total: 7\n",
            "Rolled: 1 and 3, Total: 4\n",
            "die1 in main() is: 10\n"
          ]
        }
      ]
    },
    {
      "cell_type": "markdown",
      "source": [
        "**02_e=mc2**"
      ],
      "metadata": {
        "id": "D5Uvtm3hR974"
      }
    },
    {
      "cell_type": "code",
      "source": [
        "def calculate_energy(mass):\n",
        "    C = 299792458  # Speed of light in m/s\n",
        "    return mass * (C ** 2)\n",
        "\n",
        "def main():\n",
        "    \"\"\" Command-line version of the Mass-Energy Equivalence Calculator \"\"\"\n",
        "    try:\n",
        "        mass = float(input(\"Enter kilos of mass: \"))\n",
        "        energy = calculate_energy(mass)\n",
        "        print(\"e = m * C^2...\")\n",
        "        print(f\"m = {mass} kg\")\n",
        "        print(f\"C = {299792458} m/s\")\n",
        "        print(f\"{energy} joules of energy!\")\n",
        "    except ValueError:\n",
        "        print(\"Please enter a valid number.\")\n",
        "\n",
        "if __name__ == \"__main__\":\n",
        "    main()\n",
        "\n"
      ],
      "metadata": {
        "colab": {
          "base_uri": "https://localhost:8080/"
        },
        "id": "FZbvx4J7SDg6",
        "outputId": "090dde7c-c362-4be9-d567-78469ab6024c"
      },
      "execution_count": 2,
      "outputs": [
        {
          "output_type": "stream",
          "name": "stdout",
          "text": [
            "Enter kilos of mass: 4\n",
            "e = m * C^2...\n",
            "m = 4.0 kg\n",
            "C = 299792458 m/s\n",
            "3.5950207149472704e+17 joules of energy!\n"
          ]
        }
      ]
    },
    {
      "cell_type": "markdown",
      "source": [
        "**03. Feet To Inches**"
      ],
      "metadata": {
        "id": "bH4wt2g7SH8z"
      }
    },
    {
      "cell_type": "code",
      "source": [
        "INCHES_IN_FOOT: int = 12  # Conversion factor. There are 12 inches in 1 foot.\n",
        "\n",
        "def main():\n",
        "    \"\"\" Command-line version of Feet to Inches Converter \"\"\"\n",
        "    try:\n",
        "        feet = float(input(\"Enter number of feet: \"))  # Get the number of feet\n",
        "        inches = feet * INCHES_IN_FOOT  # Convert to inches\n",
        "        print(f\"That is {inches} inches!\")\n",
        "    except ValueError:\n",
        "        print(\"Please enter a valid number.\")\n",
        "\n",
        "# Required line to run the main function\n",
        "if __name__ == '__main__':\n",
        "    main()\n",
        "\n",
        "\n"
      ],
      "metadata": {
        "colab": {
          "base_uri": "https://localhost:8080/"
        },
        "id": "FpXzya-4SSip",
        "outputId": "20da8a2b-24f4-4146-ae70-ddf14e4e98bd"
      },
      "execution_count": 3,
      "outputs": [
        {
          "output_type": "stream",
          "name": "stdout",
          "text": [
            "Enter number of feet: 4\n",
            "That is 48.0 inches!\n"
          ]
        }
      ]
    },
    {
      "cell_type": "markdown",
      "source": [
        "**04. Pythagorean Theorem**"
      ],
      "metadata": {
        "id": "Fvdwc6GWSUon"
      }
    },
    {
      "cell_type": "code",
      "source": [
        "import math  # Import math module for square root calculation\n",
        "\n",
        "def main():\n",
        "    \"\"\" Command-line version of the Pythagorean Theorem Calculator \"\"\"\n",
        "    try:\n",
        "        ab = float(input(\"Enter the length of AB: \"))  # Get side AB\n",
        "        ac = float(input(\"Enter the length of AC: \"))  # Get side AC\n",
        "        bc = math.sqrt(ab**2 + ac**2)  # Compute hypotenuse using Pythagorean theorem\n",
        "        print(f\"The length of BC (the hypotenuse) is: {bc}\")\n",
        "    except ValueError:\n",
        "        print(\"Please enter a valid number.\")\n",
        "\n",
        "# Required line to run the main function\n",
        "if __name__ == '__main__':\n",
        "    main()\n"
      ],
      "metadata": {
        "colab": {
          "base_uri": "https://localhost:8080/"
        },
        "id": "T9XL9V3MSwK7",
        "outputId": "e42c96af-71af-45be-a4c2-ded9e14e18bd"
      },
      "execution_count": 4,
      "outputs": [
        {
          "output_type": "stream",
          "name": "stdout",
          "text": [
            "Enter the length of AB: 4\n",
            "Enter the length of AC: 6\n",
            "The length of BC (the hypotenuse) is: 7.211102550927978\n"
          ]
        }
      ]
    },
    {
      "cell_type": "markdown",
      "source": [
        "**05. Remainder Divison**"
      ],
      "metadata": {
        "id": "-ldonFTjTBS1"
      }
    },
    {
      "cell_type": "code",
      "source": [
        "def main():\n",
        "    \"\"\" Command-line version of Division Calculator \"\"\"\n",
        "    try:\n",
        "        dividend = int(input(\"Please enter an integer to be divided: \"))  # Get first number\n",
        "        divisor = int(input(\"Please enter an integer to divide by: \"))  # Get second number\n",
        "\n",
        "        if divisor == 0:\n",
        "            print(\"Division by zero is not allowed.\")\n",
        "            return\n",
        "\n",
        "        quotient = dividend // divisor  # Integer division\n",
        "        remainder = dividend % divisor  # Get remainder\n",
        "        print(f\"The result of this division is {quotient} with a remainder of {remainder}\")\n",
        "    except ValueError:\n",
        "        print(\"Please enter a valid integer.\")\n",
        "\n",
        "# Required line to run the main function\n",
        "if __name__ == '__main__':\n",
        "    main()\n"
      ],
      "metadata": {
        "colab": {
          "base_uri": "https://localhost:8080/"
        },
        "id": "QyfJKZs2TFTt",
        "outputId": "a5ed8c07-dff2-4d62-fc6a-5401a8610071"
      },
      "execution_count": 5,
      "outputs": [
        {
          "output_type": "stream",
          "name": "stdout",
          "text": [
            "Please enter an integer to be divided: 6\n",
            "Please enter an integer to divide by: 4\n",
            "The result of this division is 1 with a remainder of 2\n"
          ]
        }
      ]
    },
    {
      "cell_type": "markdown",
      "source": [
        "**06. Roll Dice**"
      ],
      "metadata": {
        "id": "wpX0_AkQTHC7"
      }
    },
    {
      "cell_type": "code",
      "source": [
        "import random\n",
        "\n",
        "# Number of sides on each die\n",
        "NUM_SIDES = 6\n",
        "\n",
        "def roll_dice():\n",
        "    \"\"\"Simulates rolling two dice and prints their results.\"\"\"\n",
        "    die1 = random.randint(1, NUM_SIDES)\n",
        "    die2 = random.randint(1, NUM_SIDES)\n",
        "    total = die1 + die2\n",
        "\n",
        "    print(f\"Dice have {NUM_SIDES} sides each.\")\n",
        "    print(f\"First die: {die1}\")\n",
        "    print(f\"Second die: {die2}\")\n",
        "    print(f\"Total of two dice: {total}\")\n",
        "\n",
        "def main():\n",
        "    roll_dice()\n",
        "\n",
        "if __name__ == \"__main__\":\n",
        "    main()\n",
        "\n"
      ],
      "metadata": {
        "colab": {
          "base_uri": "https://localhost:8080/"
        },
        "id": "z-q3hK82TSrE",
        "outputId": "06cfb892-c2cb-4f0a-f8c0-bc642dc8b6df"
      },
      "execution_count": 6,
      "outputs": [
        {
          "output_type": "stream",
          "name": "stdout",
          "text": [
            "Dice have 6 sides each.\n",
            "First die: 5\n",
            "Second die: 1\n",
            "Total of two dice: 6\n"
          ]
        }
      ]
    },
    {
      "cell_type": "markdown",
      "source": [
        "**06. Second In Year**"
      ],
      "metadata": {
        "id": "iiXKqdiWTcGU"
      }
    },
    {
      "cell_type": "code",
      "source": [
        "# Constants\n",
        "DAYS_PER_YEAR = 365\n",
        "HOURS_PER_DAY = 24\n",
        "MIN_PER_HOUR = 60\n",
        "SEC_PER_MIN = 60\n",
        "\n",
        "def calculate_seconds_in_year():\n",
        "    \"\"\"Calculates the number of seconds in a year.\"\"\"\n",
        "    return DAYS_PER_YEAR * HOURS_PER_DAY * MIN_PER_HOUR * SEC_PER_MIN\n",
        "\n",
        "def main():\n",
        "    seconds = calculate_seconds_in_year()\n",
        "    print(f\"There are {seconds} seconds in a year!\")\n",
        "\n",
        "if __name__ == \"__main__\":\n",
        "    main()\n",
        "\n"
      ],
      "metadata": {
        "colab": {
          "base_uri": "https://localhost:8080/"
        },
        "id": "9pqvgzRbTh7v",
        "outputId": "58f5e84d-17f9-4afd-94e8-bd9c3c633429"
      },
      "execution_count": 7,
      "outputs": [
        {
          "output_type": "stream",
          "name": "stdout",
          "text": [
            "There are 31536000 seconds in a year!\n"
          ]
        }
      ]
    },
    {
      "cell_type": "markdown",
      "source": [
        "**07. Tiny Mad Lib**"
      ],
      "metadata": {
        "id": "kZPxrewNT6Qx"
      }
    },
    {
      "cell_type": "code",
      "source": [
        "# 🌠 Space Adventure Story Generator 🚀\n",
        "# 🎯 This script creates a fun and interactive space-themed story using user input.\n",
        "\n",
        "# 📜 Sentence starter for the story\n",
        "STORY_START = \"One day, I found a mysterious spaceship. It took me to a \"\n",
        "\n",
        "def create_story():\n",
        "    \"\"\"\n",
        "    📌 Function to generate a space-themed story by taking user input.\n",
        "    \"\"\"\n",
        "    # 🎭 Get words from the user\n",
        "    adjective = input(\"🌟 Enter an adjective: \")\n",
        "    planet = input(\"🪐 Enter the name of a planet: \")\n",
        "    creature = input(\"👽 Enter a type of alien or creature: \")\n",
        "\n",
        "    # 📝 Generate and print the final story\n",
        "    print(\"\\n🚀 Your Space Adventure Begins! 🚀\")\n",
        "    print(STORY_START + f\"{adjective} planet called {planet}, where I met a {creature}!\")\n",
        "\n",
        "# 🚀 Run the program\n",
        "if __name__ == \"__main__\":\n",
        "    create_story()"
      ],
      "metadata": {
        "colab": {
          "base_uri": "https://localhost:8080/"
        },
        "id": "xk_Z66fxT_d_",
        "outputId": "50fcbcfd-f45e-47bb-9d31-fe9e8e618714"
      },
      "execution_count": 8,
      "outputs": [
        {
          "output_type": "stream",
          "name": "stdout",
          "text": [
            "🌟 Enter an adjective: good\n",
            "🪐 Enter the name of a planet: mars\n",
            "👽 Enter a type of alien or creature: alien\n",
            "\n",
            "🚀 Your Space Adventure Begins! 🚀\n",
            "One day, I found a mysterious spaceship. It took me to a good planet called mars, where I met a alien!\n"
          ]
        }
      ]
    }
  ]
}
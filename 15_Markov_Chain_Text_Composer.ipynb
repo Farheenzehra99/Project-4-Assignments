{
  "nbformat": 4,
  "nbformat_minor": 0,
  "metadata": {
    "colab": {
      "provenance": [],
      "authorship_tag": "ABX9TyM3u1FienuRkiUJqwsXJd1n",
      "include_colab_link": true
    },
    "kernelspec": {
      "name": "python3",
      "display_name": "Python 3"
    },
    "language_info": {
      "name": "python"
    }
  },
  "cells": [
    {
      "cell_type": "markdown",
      "metadata": {
        "id": "view-in-github",
        "colab_type": "text"
      },
      "source": [
        "<a href=\"https://colab.research.google.com/github/Farheenzehra99/Project-4-Assignments/blob/main/15_Markov_Chain_Text_Composer.ipynb\" target=\"_parent\"><img src=\"https://colab.research.google.com/assets/colab-badge.svg\" alt=\"Open In Colab\"/></a>"
      ]
    },
    {
      "cell_type": "markdown",
      "source": [
        "**Project 15: Markov Chain Text Composer**"
      ],
      "metadata": {
        "id": "-yJDmZpHGhta"
      }
    },
    {
      "cell_type": "code",
      "source": [
        "import random\n",
        "\n",
        "def build_markov_chain(text):\n",
        "    # Split the text into words\n",
        "    words = text.split()\n",
        "\n",
        "    # Create a dictionary to store the Markov chain\n",
        "    markov_chain = {}\n",
        "    for i in range(len(words) - 1):\n",
        "        current_word = words[i]\n",
        "        next_word = words[i + 1]\n",
        "\n",
        "        # Add next_word to the list of possible words after current_word\n",
        "        if current_word not in markov_chain:\n",
        "            markov_chain[current_word] = []\n",
        "        markov_chain[current_word].append(next_word)\n",
        "\n",
        "    return markov_chain\n",
        "\n",
        "def generate_text(markov_chain, start_word, length=50):\n",
        "    # Start with the given start_word\n",
        "    current_word = start_word\n",
        "    generated_text = [current_word]\n",
        "\n",
        "    # Generate text by randomly selecting the next word\n",
        "    for _ in range(length - 1):\n",
        "        if current_word not in markov_chain:\n",
        "            break\n",
        "\n",
        "        next_word_options = markov_chain[current_word]\n",
        "        next_word = random.choice(next_word_options)\n",
        "        generated_text.append(next_word)\n",
        "        current_word = next_word\n",
        "\n",
        "    return \" \".join(generated_text)\n",
        "\n",
        "# Example usage\n",
        "if __name__ == \"__main__\":\n",
        "    # Input text (lyrics or any text corpus)\n",
        "    input_text = \"\"\"\n",
        "    I love music. Music makes me happy. Happy days are here again.\n",
        "    Love brings joy. Joy is everywhere. Everywhere I look, I see love.\n",
        "    \"\"\"\n",
        "\n",
        "    # Build the Markov chain\n",
        "    markov_chain = build_markov_chain(input_text)\n",
        "\n",
        "    # Generate new text starting with a specific word\n",
        "    start_word = \"Love\"\n",
        "    generated_lyrics = generate_text(markov_chain, start_word, length=20)\n",
        "\n",
        "    print(\"Generated Lyrics:\")\n",
        "    print(generated_lyrics)"
      ],
      "metadata": {
        "colab": {
          "base_uri": "https://localhost:8080/"
        },
        "id": "R-rys3QJGulI",
        "outputId": "632266c3-bcab-460d-8284-4fd3bd0a483a"
      },
      "execution_count": 1,
      "outputs": [
        {
          "output_type": "stream",
          "name": "stdout",
          "text": [
            "Generated Lyrics:\n",
            "Love brings joy. Joy is everywhere. Everywhere I love music. Music makes me happy. Happy days are here again. Love\n"
          ]
        }
      ]
    }
  ]
}
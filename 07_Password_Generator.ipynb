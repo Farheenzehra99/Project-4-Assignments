{
  "nbformat": 4,
  "nbformat_minor": 0,
  "metadata": {
    "colab": {
      "provenance": [],
      "authorship_tag": "ABX9TyNSdRPE6AJ3QEW/aqjCmrED",
      "include_colab_link": true
    },
    "kernelspec": {
      "name": "python3",
      "display_name": "Python 3"
    },
    "language_info": {
      "name": "python"
    }
  },
  "cells": [
    {
      "cell_type": "markdown",
      "metadata": {
        "id": "view-in-github",
        "colab_type": "text"
      },
      "source": [
        "<a href=\"https://colab.research.google.com/github/Farheenzehra99/Project-4-Assignments/blob/main/07_Password_Generator.ipynb\" target=\"_parent\"><img src=\"https://colab.research.google.com/assets/colab-badge.svg\" alt=\"Open In Colab\"/></a>"
      ]
    },
    {
      "cell_type": "markdown",
      "source": [
        "**Project 07: 🔐✨ Secure Password Generator in Python 🔐✨**"
      ],
      "metadata": {
        "id": "WFaMr9v78Ev7"
      }
    },
    {
      "cell_type": "code",
      "source": [
        "import random\n",
        "import string\n",
        "\n",
        "def generate_password(length=12, use_digits=True, use_special=True):\n",
        "    \"\"\"Generates a strong password with letters, digits, and special characters.\"\"\"\n",
        "\n",
        "    characters = string.ascii_letters  # Includes uppercase & lowercase letters\n",
        "\n",
        "    if use_digits:\n",
        "        characters += string.digits  # Adds numbers 0-9\n",
        "\n",
        "    if use_special:\n",
        "        characters += string.punctuation  # Adds special characters (!@#$%^&*)\n",
        "\n",
        "    password = ''.join(random.choice(characters) for _ in range(length))\n",
        "\n",
        "    return password\n",
        "\n",
        "# 🎯 User input for password length and options\n",
        "try:\n",
        "    length = int(input(\"🔢 Enter password length: \"))\n",
        "    use_digits = input(\"🔢 Include numbers? (yes/no): \").strip().lower() == \"yes\"\n",
        "    use_special = input(\"🔠 Include special characters? (yes/no): \").strip().lower() == \"yes\"\n",
        "\n",
        "    # Generate and display password\n",
        "    password = generate_password(length, use_digits, use_special)\n",
        "    print(f\"\\n🔐 **Generated Password:** {password} 🎉\")\n",
        "\n",
        "except ValueError:\n",
        "    print(\"❌ Please enter a valid number for password length!\")\n"
      ],
      "metadata": {
        "colab": {
          "base_uri": "https://localhost:8080/"
        },
        "id": "_GdYkTt78cPS",
        "outputId": "341ed3df-e9e6-492f-f89b-22c007b615da"
      },
      "execution_count": null,
      "outputs": [
        {
          "output_type": "stream",
          "name": "stdout",
          "text": [
            "🔢 Enter password length: 12\n",
            "🔢 Include numbers? (yes/no): no\n",
            "🔠 Include special characters? (yes/no): no\n",
            "\n",
            "🔐 **Generated Password:** LNivTiJxzCwI 🎉\n"
          ]
        }
      ]
    }
  ]
}
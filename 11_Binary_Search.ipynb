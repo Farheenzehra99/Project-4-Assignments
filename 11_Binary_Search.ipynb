{
  "nbformat": 4,
  "nbformat_minor": 0,
  "metadata": {
    "colab": {
      "provenance": [],
      "authorship_tag": "ABX9TyP9GJuWVsW9tvfck6edHY3L",
      "include_colab_link": true
    },
    "kernelspec": {
      "name": "python3",
      "display_name": "Python 3"
    },
    "language_info": {
      "name": "python"
    }
  },
  "cells": [
    {
      "cell_type": "markdown",
      "metadata": {
        "id": "view-in-github",
        "colab_type": "text"
      },
      "source": [
        "<a href=\"https://colab.research.google.com/github/Farheenzehra99/Project-4-Assignments/blob/main/11_Binary_Search.ipynb\" target=\"_parent\"><img src=\"https://colab.research.google.com/assets/colab-badge.svg\" alt=\"Open In Colab\"/></a>"
      ]
    },
    {
      "cell_type": "markdown",
      "source": [
        "**Project 11 : Binary Search**"
      ],
      "metadata": {
        "id": "5BgDhNoIr5YP"
      }
    },
    {
      "cell_type": "code",
      "source": [
        "# Binary Search Function\n",
        "def binary_search(arr, target):\n",
        "    \"\"\"\n",
        "    Performs binary search on a sorted array.\n",
        "    Returns the index of target if found, else -1.\n",
        "    \"\"\"\n",
        "    low = 0                     # Start of the search range\n",
        "    high = len(arr) - 1         # End of the search range\n",
        "\n",
        "    while low <= high:\n",
        "        mid = (low + high) // 2  # Calculate middle index\n",
        "\n",
        "        if arr[mid] == target:   # Target found at mid\n",
        "            return mid\n",
        "        elif arr[mid] < target:  # Search right half\n",
        "            low = mid + 1\n",
        "        else:                    # Search left half\n",
        "            high = mid - 1\n",
        "\n",
        "    return -1  # Target not found\n",
        "\n",
        "# Test Case 1: Numbers\n",
        "numbers = [2, 5, 8, 12, 16, 23, 38, 56, 72, 91]\n",
        "target = 23\n",
        "\n",
        "result = binary_search(numbers, target)\n",
        "print(f\"Target {target} found at index: {result}\" if result != -1 else \"Not found\")\n",
        "\n",
        "# Test Case 2: Strings (Alphabetical order required)\n",
        "words = [\"apple\", \"banana\", \"cherry\", \"dates\", \"figs\", \"grapes\"]\n",
        "target_word = \"figs\"\n",
        "\n",
        "word_result = binary_search(words, target_word)\n",
        "print(f\"Word '{target_word}' found at index: {word_result}\" if word_result != -1 else \"Not found\")"
      ],
      "metadata": {
        "colab": {
          "base_uri": "https://localhost:8080/"
        },
        "id": "KARMGaBytEQE",
        "outputId": "4086c204-c2cc-4009-977c-daf3d4ac88e3"
      },
      "execution_count": 1,
      "outputs": [
        {
          "output_type": "stream",
          "name": "stdout",
          "text": [
            "Target 23 found at index: 5\n",
            "Word 'figs' found at index: 4\n"
          ]
        }
      ]
    },
    {
      "cell_type": "code",
      "execution_count": null,
      "metadata": {
        "id": "X4qMr2grrxw2"
      },
      "outputs": [],
      "source": []
    }
  ]
}
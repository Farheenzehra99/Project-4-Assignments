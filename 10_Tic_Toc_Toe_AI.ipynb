{
  "nbformat": 4,
  "nbformat_minor": 0,
  "metadata": {
    "colab": {
      "provenance": [],
      "authorship_tag": "ABX9TyODfSGbOf+17GAmFee64W0n",
      "include_colab_link": true
    },
    "kernelspec": {
      "name": "python3",
      "display_name": "Python 3"
    },
    "language_info": {
      "name": "python"
    }
  },
  "cells": [
    {
      "cell_type": "markdown",
      "metadata": {
        "id": "view-in-github",
        "colab_type": "text"
      },
      "source": [
        "<a href=\"https://colab.research.google.com/github/Farheenzehra99/Project-4-Assignments/blob/main/10_Tic_Toc_Toe_AI.ipynb\" target=\"_parent\"><img src=\"https://colab.research.google.com/assets/colab-badge.svg\" alt=\"Open In Colab\"/></a>"
      ]
    },
    {
      "cell_type": "code",
      "execution_count": null,
      "metadata": {
        "id": "XYyZH3e0odUZ"
      },
      "outputs": [],
      "source": []
    },
    {
      "cell_type": "markdown",
      "source": [
        "Project 10 : Tic Toc Toe AI"
      ],
      "metadata": {
        "id": "RQNuWCq7ordP"
      }
    },
    {
      "cell_type": "code",
      "source": [
        "import random\n",
        "\n",
        "board = [\" \"]*9\n",
        "players = [\"X\", \"O\"]\n",
        "\n",
        "def print_board():\n",
        "    print(\"\\n\")\n",
        "    for i in range(0, 9, 3):\n",
        "        print(f\" {board[i]} | {board[i+1]} | {board[i+2]}\")\n",
        "        if i < 6: print(\"-----------\")\n",
        "\n",
        "def check_win(player):\n",
        "    wins = [(0,1,2),(3,4,5),(6,7,8),(0,3,6),(1,4,7),(2,5,8),(0,4,8),(2,4,6)]\n",
        "    return any(all(board[i] == player for i in combo) for combo in wins)\n",
        "\n",
        "def minimax(is_max):\n",
        "    if check_win(\"O\"): return 1\n",
        "    if check_win(\"X\"): return -1\n",
        "    if \" \" not in board: return 0\n",
        "\n",
        "    scores = []\n",
        "    for i in range(9):\n",
        "        if board[i] == \" \":\n",
        "            board[i] = players[is_max]\n",
        "            scores.append(minimax(not is_max))\n",
        "            board[i] = \" \"\n",
        "    return max(scores) if is_max else min(scores)\n",
        "\n",
        "def ai_move():\n",
        "    best_score, best_move = -2, None\n",
        "    for i in range(9):\n",
        "        if board[i] == \" \":\n",
        "            board[i] = \"O\"\n",
        "            score = minimax(False)\n",
        "            board[i] = \" \"\n",
        "            if score > best_score:\n",
        "                best_score, best_move = score, i\n",
        "    board[best_move] = \"O\"\n",
        "\n",
        "while True:\n",
        "    print_board()\n",
        "    if \" \" not in board or check_win(\"O\") or check_win(\"X\"): break\n",
        "    move = int(input(\"Your move (0-8): \"))\n",
        "    if board[move] == \" \": board[move] = \"X\"\n",
        "    ai_move()"
      ],
      "metadata": {
        "id": "3p0Y5gyOo4S4"
      },
      "execution_count": null,
      "outputs": []
    }
  ]
}
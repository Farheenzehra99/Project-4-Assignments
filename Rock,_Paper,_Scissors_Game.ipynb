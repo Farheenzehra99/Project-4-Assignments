{
  "cells": [
    {
      "cell_type": "markdown",
      "metadata": {
        "id": "view-in-github",
        "colab_type": "text"
      },
      "source": [
        "<a href=\"https://colab.research.google.com/github/Farheenzehra99/Project-4-Assignments/blob/main/Rock%2C_Paper%2C_Scissors_Game.ipynb\" target=\"_parent\"><img src=\"https://colab.research.google.com/assets/colab-badge.svg\" alt=\"Open In Colab\"/></a>"
      ]
    },
    {
      "cell_type": "markdown",
      "metadata": {
        "id": "p_jSHQwd4blx"
      },
      "source": [
        "**Project 04: Rock, Paper, Scissors Game**"
      ]
    },
    {
      "cell_type": "code",
      "execution_count": null,
      "metadata": {
        "colab": {
          "background_save": true,
          "base_uri": "https://localhost:8080/"
        },
        "id": "Ldm8oiCi4-_t",
        "outputId": "7a10d91f-8683-464d-973e-754d28647512"
      },
      "outputs": [
        {
          "name": "stdout",
          "output_type": "stream",
          "text": [
            "\n",
            "You chose: 🪨 (rock)\n",
            "Computer chose: 📄 (paper)\n",
            "Computer wins! 🤖\n",
            "\n",
            "------------------------------\n",
            "\n",
            "\n",
            "You chose: ✂️ (scissors)\n",
            "Computer chose: ✂️ (scissors)\n",
            "It's a tie! 🤝\n",
            "\n",
            "------------------------------\n",
            "\n"
          ]
        }
      ],
      "source": [
        "import random\n",
        "\n",
        "# Emojis for Rock, Paper, and Scissors\n",
        "icons = {\n",
        "    \"rock\": \"🪨\",\n",
        "    \"paper\": \"📄\",\n",
        "    \"scissors\": \"✂️\"\n",
        "}\n",
        "\n",
        "# Game Rules\n",
        "choices = [\"rock\", \"paper\", \"scissors\"]\n",
        "\n",
        "def get_winner(user, computer):\n",
        "    if user == computer:\n",
        "        return \"It's a tie! 🤝\"\n",
        "    elif (user == \"rock\" and computer == \"scissors\") or \\\n",
        "         (user == \"scissors\" and computer == \"paper\") or \\\n",
        "         (user == \"paper\" and computer == \"rock\"):\n",
        "        return \"You win! 🎉\"\n",
        "    else:\n",
        "        return \"Computer wins! 🤖\"\n",
        "\n",
        "# Play the Game\n",
        "while True:\n",
        "    user_choice = input(\"Choose Rock, Paper, or Scissors (or type 'exit' to quit): \").lower()\n",
        "\n",
        "    if user_choice == \"exit\":\n",
        "        print(\"Thanks for playing! 👋\")\n",
        "        break\n",
        "\n",
        "    if user_choice not in choices:\n",
        "        print(\"Invalid choice, please try again! 🚫\")\n",
        "        continue\n",
        "\n",
        "    computer_choice = random.choice(choices)\n",
        "\n",
        "    print(f\"\\nYou chose: {icons[user_choice]} ({user_choice})\")\n",
        "    print(f\"Computer chose: {icons[computer_choice]} ({computer_choice})\")\n",
        "\n",
        "    print(get_winner(user_choice, computer_choice))\n",
        "    print(\"\\n\" + \"-\"*30 + \"\\n\")\n"
      ]
    }
  ],
  "metadata": {
    "colab": {
      "provenance": [],
      "authorship_tag": "ABX9TyNe6VrSC6OQJsF0fjBnE/q2",
      "include_colab_link": true
    },
    "kernelspec": {
      "display_name": "Python 3",
      "name": "python3"
    },
    "language_info": {
      "name": "python"
    }
  },
  "nbformat": 4,
  "nbformat_minor": 0
}
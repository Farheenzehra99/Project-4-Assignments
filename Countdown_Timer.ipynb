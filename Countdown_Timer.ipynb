{
  "nbformat": 4,
  "nbformat_minor": 0,
  "metadata": {
    "colab": {
      "provenance": [],
      "authorship_tag": "ABX9TyP9+3x8rwhVz7dRZ9zbjInd",
      "include_colab_link": true
    },
    "kernelspec": {
      "name": "python3",
      "display_name": "Python 3"
    },
    "language_info": {
      "name": "python"
    }
  },
  "cells": [
    {
      "cell_type": "markdown",
      "metadata": {
        "id": "view-in-github",
        "colab_type": "text"
      },
      "source": [
        "<a href=\"https://colab.research.google.com/github/Farheenzehra99/Project-4-Assignments/blob/main/Countdown_Timer.ipynb\" target=\"_parent\"><img src=\"https://colab.research.google.com/assets/colab-badge.svg\" alt=\"Open In Colab\"/></a>"
      ]
    },
    {
      "cell_type": "markdown",
      "source": [
        "**Project 06⏳🔥 Countdown Timer in Python⏳🔥**"
      ],
      "metadata": {
        "id": "lnov43tZ6j3U"
      }
    },
    {
      "cell_type": "code",
      "source": [
        "import time\n",
        "from IPython.display import clear_output\n",
        "\n",
        "def countdown_timer(seconds):\n",
        "    while seconds:\n",
        "        clear_output(wait=True)  # Clears the output for a clean display\n",
        "        mins, secs = divmod(seconds, 60)\n",
        "        timer_display = f\"⏳ Countdown: {mins:02d}:{secs:02d} ⏳\"\n",
        "        print(timer_display)\n",
        "        time.sleep(1)\n",
        "        seconds -= 1\n",
        "\n",
        "    clear_output(wait=True)\n",
        "    print(\"🎉 Time's up! 🚀\")\n",
        "\n",
        "# User input for countdown time\n",
        "try:\n",
        "    seconds = int(input(\"Enter time in seconds: \"))\n",
        "    countdown_timer(seconds)\n",
        "except ValueError:\n",
        "    print(\"❌ Please enter a valid number!\")\n"
      ],
      "metadata": {
        "id": "ssq1j40a6ynQ"
      },
      "execution_count": null,
      "outputs": []
    }
  ]
}
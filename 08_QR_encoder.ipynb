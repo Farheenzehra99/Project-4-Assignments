{
  "nbformat": 4,
  "nbformat_minor": 0,
  "metadata": {
    "colab": {
      "provenance": [],
      "authorship_tag": "ABX9TyPCCV7RdnxFNUsiXYNSrBBE",
      "include_colab_link": true
    },
    "kernelspec": {
      "name": "python3",
      "display_name": "Python 3"
    },
    "language_info": {
      "name": "python"
    }
  },
  "cells": [
    {
      "cell_type": "markdown",
      "metadata": {
        "id": "view-in-github",
        "colab_type": "text"
      },
      "source": [
        "<a href=\"https://colab.research.google.com/github/Farheenzehra99/Project-4-Assignments/blob/main/08_QR_encoder.ipynb\" target=\"_parent\"><img src=\"https://colab.research.google.com/assets/colab-badge.svg\" alt=\"Open In Colab\"/></a>"
      ]
    },
    {
      "cell_type": "markdown",
      "source": [
        "Project 08 : QR Code Generator"
      ],
      "metadata": {
        "id": "y9oYbUafh474"
      }
    },
    {
      "cell_type": "code",
      "source": [
        "import qrcode  # 📌 QR Code Library\n",
        "\n",
        "# ✏️ User Input\n",
        "data = input(\"Enter text or URL to generate QR Code: \")\n",
        "\n",
        "# ✅ Generate QR Code\n",
        "qr = qrcode.QRCode(\n",
        "    version=1,  # QR Code Size (1-40)\n",
        "    box_size=10,  # Size of Each Box\n",
        "    border=5  # Border Thickness\n",
        ")\n",
        "qr.add_data(data)\n",
        "qr.make(fit=True)\n",
        "\n",
        "# 🎨 Create and Save QR Code\n",
        "qr_img = qr.make_image(fill=\"black\", back_color=\"white\")\n",
        "qr_img.save(\"my_qr_code.png\")\n",
        "\n",
        "print(\"✅ QR Code Generated & Saved as my_qr_code.png\")"
      ],
      "metadata": {
        "id": "yKCTT9_biNg7"
      },
      "execution_count": null,
      "outputs": []
    },
    {
      "cell_type": "code",
      "source": [
        "!pip install qrcode[pil]\n",
        "\n"
      ],
      "metadata": {
        "colab": {
          "base_uri": "https://localhost:8080/"
        },
        "id": "Vw5FdUZ-ike0",
        "outputId": "5eb27959-2e9f-4570-eb8c-63867738ea96"
      },
      "execution_count": 3,
      "outputs": [
        {
          "output_type": "stream",
          "name": "stdout",
          "text": [
            "Collecting qrcode[pil]\n",
            "  Downloading qrcode-8.1-py3-none-any.whl.metadata (17 kB)\n",
            "Requirement already satisfied: pillow>=9.1.0 in /usr/local/lib/python3.11/dist-packages (from qrcode[pil]) (11.1.0)\n",
            "Downloading qrcode-8.1-py3-none-any.whl (45 kB)\n",
            "\u001b[?25l   \u001b[90m━━━━━━━━━━━━━━━━━━━━━━━━━━━━━━━━━━━━━━━━\u001b[0m \u001b[32m0.0/45.7 kB\u001b[0m \u001b[31m?\u001b[0m eta \u001b[36m-:--:--\u001b[0m\r\u001b[2K   \u001b[90m━━━━━━━━━━━━━━━━━━━━━━━━━━━━━━━━━━━━━━━━\u001b[0m \u001b[32m45.7/45.7 kB\u001b[0m \u001b[31m2.0 MB/s\u001b[0m eta \u001b[36m0:00:00\u001b[0m\n",
            "\u001b[?25hInstalling collected packages: qrcode\n",
            "Successfully installed qrcode-8.1\n"
          ]
        }
      ]
    }
  ]
}
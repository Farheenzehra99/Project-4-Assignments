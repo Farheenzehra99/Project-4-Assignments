{
  "nbformat": 4,
  "nbformat_minor": 0,
  "metadata": {
    "colab": {
      "provenance": [],
      "authorship_tag": "ABX9TyOLpwbklnNeMcqJeLJA8P9C",
      "include_colab_link": true
    },
    "kernelspec": {
      "name": "python3",
      "display_name": "Python 3"
    },
    "language_info": {
      "name": "python"
    },
    "widgets": {
      "application/vnd.jupyter.widget-state+json": {
        "51de7e84ea09421a952ffbcac00f6305": {
          "model_module": "@jupyter-widgets/controls",
          "model_name": "TextModel",
          "model_module_version": "1.5.0",
          "state": {
            "_dom_classes": [],
            "_model_module": "@jupyter-widgets/controls",
            "_model_module_version": "1.5.0",
            "_model_name": "TextModel",
            "_view_count": null,
            "_view_module": "@jupyter-widgets/controls",
            "_view_module_version": "1.5.0",
            "_view_name": "TextView",
            "continuous_update": true,
            "description": "City:",
            "description_tooltip": null,
            "disabled": false,
            "layout": "IPY_MODEL_1bcd6e5d01434cd0aad6bc501351a157",
            "placeholder": "Enter city name",
            "style": "IPY_MODEL_eb2d5b57e668429aac9a70fc2d4a7314",
            "value": "Hyderabad"
          }
        },
        "1bcd6e5d01434cd0aad6bc501351a157": {
          "model_module": "@jupyter-widgets/base",
          "model_name": "LayoutModel",
          "model_module_version": "1.2.0",
          "state": {
            "_model_module": "@jupyter-widgets/base",
            "_model_module_version": "1.2.0",
            "_model_name": "LayoutModel",
            "_view_count": null,
            "_view_module": "@jupyter-widgets/base",
            "_view_module_version": "1.2.0",
            "_view_name": "LayoutView",
            "align_content": null,
            "align_items": null,
            "align_self": null,
            "border": null,
            "bottom": null,
            "display": null,
            "flex": null,
            "flex_flow": null,
            "grid_area": null,
            "grid_auto_columns": null,
            "grid_auto_flow": null,
            "grid_auto_rows": null,
            "grid_column": null,
            "grid_gap": null,
            "grid_row": null,
            "grid_template_areas": null,
            "grid_template_columns": null,
            "grid_template_rows": null,
            "height": null,
            "justify_content": null,
            "justify_items": null,
            "left": null,
            "margin": null,
            "max_height": null,
            "max_width": null,
            "min_height": null,
            "min_width": null,
            "object_fit": null,
            "object_position": null,
            "order": null,
            "overflow": null,
            "overflow_x": null,
            "overflow_y": null,
            "padding": null,
            "right": null,
            "top": null,
            "visibility": null,
            "width": null
          }
        },
        "eb2d5b57e668429aac9a70fc2d4a7314": {
          "model_module": "@jupyter-widgets/controls",
          "model_name": "DescriptionStyleModel",
          "model_module_version": "1.5.0",
          "state": {
            "_model_module": "@jupyter-widgets/controls",
            "_model_module_version": "1.5.0",
            "_model_name": "DescriptionStyleModel",
            "_view_count": null,
            "_view_module": "@jupyter-widgets/base",
            "_view_module_version": "1.2.0",
            "_view_name": "StyleView",
            "description_width": ""
          }
        },
        "399259fdb933450a91523884ad3b0d82": {
          "model_module": "@jupyter-widgets/controls",
          "model_name": "ButtonModel",
          "model_module_version": "1.5.0",
          "state": {
            "_dom_classes": [],
            "_model_module": "@jupyter-widgets/controls",
            "_model_module_version": "1.5.0",
            "_model_name": "ButtonModel",
            "_view_count": null,
            "_view_module": "@jupyter-widgets/controls",
            "_view_module_version": "1.5.0",
            "_view_name": "ButtonView",
            "button_style": "",
            "description": "Get Weather",
            "disabled": false,
            "icon": "",
            "layout": "IPY_MODEL_967730acf6914a768e9efb7f75a442a9",
            "style": "IPY_MODEL_24480ef6e9f643b9a3c8cb52efe5fe77",
            "tooltip": ""
          }
        },
        "967730acf6914a768e9efb7f75a442a9": {
          "model_module": "@jupyter-widgets/base",
          "model_name": "LayoutModel",
          "model_module_version": "1.2.0",
          "state": {
            "_model_module": "@jupyter-widgets/base",
            "_model_module_version": "1.2.0",
            "_model_name": "LayoutModel",
            "_view_count": null,
            "_view_module": "@jupyter-widgets/base",
            "_view_module_version": "1.2.0",
            "_view_name": "LayoutView",
            "align_content": null,
            "align_items": null,
            "align_self": null,
            "border": null,
            "bottom": null,
            "display": null,
            "flex": null,
            "flex_flow": null,
            "grid_area": null,
            "grid_auto_columns": null,
            "grid_auto_flow": null,
            "grid_auto_rows": null,
            "grid_column": null,
            "grid_gap": null,
            "grid_row": null,
            "grid_template_areas": null,
            "grid_template_columns": null,
            "grid_template_rows": null,
            "height": null,
            "justify_content": null,
            "justify_items": null,
            "left": null,
            "margin": null,
            "max_height": null,
            "max_width": null,
            "min_height": null,
            "min_width": null,
            "object_fit": null,
            "object_position": null,
            "order": null,
            "overflow": null,
            "overflow_x": null,
            "overflow_y": null,
            "padding": null,
            "right": null,
            "top": null,
            "visibility": null,
            "width": null
          }
        },
        "24480ef6e9f643b9a3c8cb52efe5fe77": {
          "model_module": "@jupyter-widgets/controls",
          "model_name": "ButtonStyleModel",
          "model_module_version": "1.5.0",
          "state": {
            "_model_module": "@jupyter-widgets/controls",
            "_model_module_version": "1.5.0",
            "_model_name": "ButtonStyleModel",
            "_view_count": null,
            "_view_module": "@jupyter-widgets/base",
            "_view_module_version": "1.2.0",
            "_view_name": "StyleView",
            "button_color": null,
            "font_weight": ""
          }
        },
        "75cd221a439a47d6bd3978d8cedc4484": {
          "model_module": "@jupyter-widgets/output",
          "model_name": "OutputModel",
          "model_module_version": "1.0.0",
          "state": {
            "_dom_classes": [],
            "_model_module": "@jupyter-widgets/output",
            "_model_module_version": "1.0.0",
            "_model_name": "OutputModel",
            "_view_count": null,
            "_view_module": "@jupyter-widgets/output",
            "_view_module_version": "1.0.0",
            "_view_name": "OutputView",
            "layout": "IPY_MODEL_423db8e415104f89ab54b7abe1d2957c",
            "msg_id": "",
            "outputs": [
              {
                "output_type": "display_data",
                "data": {
                  "text/plain": "<IPython.core.display.HTML object>",
                  "text/html": "\n            <div style=\"background:#e0f7fa;padding:20px;border-radius:10px;width:300px;font-family:sans-serif\">\n                <h2 style=\"margin-top:0;\">📍 Hyderabad</h2>\n                <h1 style=\"font-size:48px;margin:10px 0;\">🌈 30°C</h1>\n                <p style=\"font-size:20px;color:#555;\">Haze</p>\n            </div>\n            "
                },
                "metadata": {}
              }
            ]
          }
        },
        "423db8e415104f89ab54b7abe1d2957c": {
          "model_module": "@jupyter-widgets/base",
          "model_name": "LayoutModel",
          "model_module_version": "1.2.0",
          "state": {
            "_model_module": "@jupyter-widgets/base",
            "_model_module_version": "1.2.0",
            "_model_name": "LayoutModel",
            "_view_count": null,
            "_view_module": "@jupyter-widgets/base",
            "_view_module_version": "1.2.0",
            "_view_name": "LayoutView",
            "align_content": null,
            "align_items": null,
            "align_self": null,
            "border": null,
            "bottom": null,
            "display": null,
            "flex": null,
            "flex_flow": null,
            "grid_area": null,
            "grid_auto_columns": null,
            "grid_auto_flow": null,
            "grid_auto_rows": null,
            "grid_column": null,
            "grid_gap": null,
            "grid_row": null,
            "grid_template_areas": null,
            "grid_template_columns": null,
            "grid_template_rows": null,
            "height": null,
            "justify_content": null,
            "justify_items": null,
            "left": null,
            "margin": null,
            "max_height": null,
            "max_width": null,
            "min_height": null,
            "min_width": null,
            "object_fit": null,
            "object_position": null,
            "order": null,
            "overflow": null,
            "overflow_x": null,
            "overflow_y": null,
            "padding": null,
            "right": null,
            "top": null,
            "visibility": null,
            "width": null
          }
        }
      }
    }
  },
  "cells": [
    {
      "cell_type": "markdown",
      "metadata": {
        "id": "view-in-github",
        "colab_type": "text"
      },
      "source": [
        "<a href=\"https://colab.research.google.com/github/Farheenzehra99/Project-4-Assignments/blob/main/18_Weather_App.ipynb\" target=\"_parent\"><img src=\"https://colab.research.google.com/assets/colab-badge.svg\" alt=\"Open In Colab\"/></a>"
      ]
    },
    {
      "cell_type": "code",
      "execution_count": null,
      "metadata": {
        "id": "i6FDkTogjxpd"
      },
      "outputs": [],
      "source": []
    },
    {
      "cell_type": "markdown",
      "source": [
        "**Project 18: Weather App**"
      ],
      "metadata": {
        "id": "S81sWK-Ejzv_"
      }
    },
    {
      "cell_type": "code",
      "source": [
        "import requests\n",
        "from IPython.display import display, HTML\n",
        "import ipywidgets as widgets\n",
        "\n",
        "# 🔐  Set your API Key (paste your key here)\n",
        "api_key = \"b1a3e85995a21e9c234dd230738d24f7\"  # Replace with your real key\n",
        "\n",
        "\n",
        "# 🌦️ Weather condition to emoji mapping\n",
        "def get_weather_icon(description):\n",
        "    description = description.lower()\n",
        "    if 'clear' in description:\n",
        "        return '☀️'\n",
        "    elif 'cloud' in description:\n",
        "        return '☁️'\n",
        "    elif 'rain' in description:\n",
        "        return '🌧️'\n",
        "    elif 'thunder' in description:\n",
        "        return '⛈️'\n",
        "    elif 'snow' in description:\n",
        "        return '❄️'\n",
        "    elif 'mist' in description or 'fog' in description:\n",
        "        return '🌫️'\n",
        "    else:\n",
        "        return '🌈'\n",
        "\n",
        "# 🔑 API key & input field\n",
        "api_key = \"b1a3e85995a21e9c234dd230738d24f7\"  # Replace with your OpenWeatherMap API key\n",
        "city_input = widgets.Text(placeholder='Enter city name', description='City:')\n",
        "display(city_input)\n",
        "\n",
        "# 🔘 Button to trigger\n",
        "button = widgets.Button(description=\"Get Weather\")\n",
        "display(button)\n",
        "\n",
        "# 📊 Output area\n",
        "output = widgets.Output()\n",
        "display(output)\n",
        "\n",
        "# 🔁 On button click\n",
        "def on_button_clicked(b):\n",
        "    city = city_input.value\n",
        "    if not city:\n",
        "        with output:\n",
        "            output.clear_output()\n",
        "            print(\"⚠️ Please enter a city name.\")\n",
        "        return\n",
        "\n",
        "    url = f\"https://api.openweathermap.org/data/2.5/weather?q={city}&appid={api_key}&units=metric\"\n",
        "    response = requests.get(url).json()\n",
        "\n",
        "    with output:\n",
        "        output.clear_output()\n",
        "        if response.get(\"cod\") != 200:\n",
        "            print(\"❌ City not found.\")\n",
        "        else:\n",
        "            name = response[\"name\"]\n",
        "            temp = response[\"main\"][\"temp\"]\n",
        "            desc = response[\"weather\"][0][\"description\"].capitalize()\n",
        "            icon = get_weather_icon(desc)\n",
        "\n",
        "            html = f\"\"\"\n",
        "            <div style=\"background:#e0f7fa;padding:20px;border-radius:10px;width:300px;font-family:sans-serif\">\n",
        "                <h2 style=\"margin-top:0;\">📍 {name}</h2>\n",
        "                <h1 style=\"font-size:48px;margin:10px 0;\">{icon} {int(temp)}°C</h1>\n",
        "                <p style=\"font-size:20px;color:#555;\">{desc}</p>\n",
        "            </div>\n",
        "            \"\"\"\n",
        "            display(HTML(html))\n",
        "\n",
        "# 📌 Bind the button\n",
        "button.on_click(on_button_clicked)\n"
      ],
      "metadata": {
        "colab": {
          "base_uri": "https://localhost:8080/",
          "height": 258,
          "referenced_widgets": [
            "51de7e84ea09421a952ffbcac00f6305",
            "1bcd6e5d01434cd0aad6bc501351a157",
            "eb2d5b57e668429aac9a70fc2d4a7314",
            "399259fdb933450a91523884ad3b0d82",
            "967730acf6914a768e9efb7f75a442a9",
            "24480ef6e9f643b9a3c8cb52efe5fe77",
            "75cd221a439a47d6bd3978d8cedc4484",
            "423db8e415104f89ab54b7abe1d2957c"
          ]
        },
        "id": "7wzwlrWRkJjj",
        "outputId": "47f9f2e4-c7df-47d9-bf0c-6ae0d663b173"
      },
      "execution_count": 2,
      "outputs": [
        {
          "output_type": "display_data",
          "data": {
            "text/plain": [
              "Text(value='', description='City:', placeholder='Enter city name')"
            ],
            "application/vnd.jupyter.widget-view+json": {
              "version_major": 2,
              "version_minor": 0,
              "model_id": "51de7e84ea09421a952ffbcac00f6305"
            }
          },
          "metadata": {}
        },
        {
          "output_type": "display_data",
          "data": {
            "text/plain": [
              "Button(description='Get Weather', style=ButtonStyle())"
            ],
            "application/vnd.jupyter.widget-view+json": {
              "version_major": 2,
              "version_minor": 0,
              "model_id": "399259fdb933450a91523884ad3b0d82"
            }
          },
          "metadata": {}
        },
        {
          "output_type": "display_data",
          "data": {
            "text/plain": [
              "Output()"
            ],
            "application/vnd.jupyter.widget-view+json": {
              "version_major": 2,
              "version_minor": 0,
              "model_id": "75cd221a439a47d6bd3978d8cedc4484"
            }
          },
          "metadata": {}
        }
      ]
    }
  ]
}
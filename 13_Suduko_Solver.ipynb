{
  "nbformat": 4,
  "nbformat_minor": 0,
  "metadata": {
    "colab": {
      "provenance": [],
      "authorship_tag": "ABX9TyP0F8Qc1zPdPrvquzaYsDtM",
      "include_colab_link": true
    },
    "kernelspec": {
      "name": "python3",
      "display_name": "Python 3"
    },
    "language_info": {
      "name": "python"
    }
  },
  "cells": [
    {
      "cell_type": "markdown",
      "metadata": {
        "id": "view-in-github",
        "colab_type": "text"
      },
      "source": [
        "<a href=\"https://colab.research.google.com/github/Farheenzehra99/Project-4-Assignments/blob/main/13_Suduko_Solver.ipynb\" target=\"_parent\"><img src=\"https://colab.research.google.com/assets/colab-badge.svg\" alt=\"Open In Colab\"/></a>"
      ]
    },
    {
      "cell_type": "markdown",
      "source": [
        "**Project 12: Sudoku Solver**"
      ],
      "metadata": {
        "id": "02FVyl5a5n_I"
      }
    },
    {
      "cell_type": "code",
      "source": [
        "def is_valid(grid, row, col, num):\n",
        "    for i in range(9):\n",
        "        if grid[row][i] == num or grid[i][col] == num:\n",
        "            return False\n",
        "    start_row, start_col = 3 * (row // 3), 3 * (col // 3)\n",
        "    for i in range(3):\n",
        "        for j in range(3):\n",
        "            if grid[start_row + i][start_col + j] == num:\n",
        "                return False\n",
        "    return True\n",
        "\n",
        "def solve_sudoku(grid):\n",
        "    for row in range(9):\n",
        "        for col in range(9):\n",
        "            if grid[row][col] == 0:\n",
        "                for num in range(1, 10):\n",
        "                    if is_valid(grid, row, col, num):\n",
        "                        grid[row][col] = num\n",
        "                        if solve_sudoku(grid):\n",
        "                            return True\n",
        "                        grid[row][col] = 0\n",
        "                return False\n",
        "    return True\n",
        "\n",
        "def print_grid(grid):\n",
        "    for row in grid:\n",
        "        print(\" \".join(str(num) if num != 0 else '.' for num in row))\n",
        "\n",
        "if __name__ == \"__main__\":\n",
        "    sudoku_grid = [\n",
        "        [5, 3, 0, 0, 7, 0, 0, 0, 0],\n",
        "        [6, 0, 0, 1, 9, 5, 0, 0, 0],\n",
        "        [0, 9, 8, 0, 0, 0, 0, 6, 0],\n",
        "        [8, 0, 0, 0, 6, 0, 0, 0, 3],\n",
        "        [4, 0, 0, 8, 0, 3, 0, 0, 1],\n",
        "        [7, 0, 0, 0, 2, 0, 0, 0, 6],\n",
        "        [0, 6, 0, 0, 0, 0, 2, 8, 0],\n",
        "        [0, 0, 0, 4, 1, 9, 0, 0, 5],\n",
        "        [0, 0, 0, 0, 8, 0, 0, 7, 9]\n",
        "    ]\n",
        "    print(\"Original Sudoku Grid:\")\n",
        "    print_grid(sudoku_grid)\n",
        "\n",
        "    if solve_sudoku(sudoku_grid):\n",
        "        print(\"\\nSolved Sudoku Grid:\")\n",
        "        print_grid(sudoku_grid)\n",
        "    else:\n",
        "        print(\"\\nNo solution exists!\")"
      ],
      "metadata": {
        "colab": {
          "base_uri": "https://localhost:8080/"
        },
        "id": "tcYAHtmV56Uw",
        "outputId": "47f6e7cc-6f88-4f03-db61-9879461edf81"
      },
      "execution_count": 1,
      "outputs": [
        {
          "output_type": "stream",
          "name": "stdout",
          "text": [
            "Original Sudoku Grid:\n",
            "5 3 . . 7 . . . .\n",
            "6 . . 1 9 5 . . .\n",
            ". 9 8 . . . . 6 .\n",
            "8 . . . 6 . . . 3\n",
            "4 . . 8 . 3 . . 1\n",
            "7 . . . 2 . . . 6\n",
            ". 6 . . . . 2 8 .\n",
            ". . . 4 1 9 . . 5\n",
            ". . . . 8 . . 7 9\n",
            "\n",
            "Solved Sudoku Grid:\n",
            "5 3 4 6 7 8 9 1 2\n",
            "6 7 2 1 9 5 3 4 8\n",
            "1 9 8 3 4 2 5 6 7\n",
            "8 5 9 7 6 1 4 2 3\n",
            "4 2 6 8 5 3 7 9 1\n",
            "7 1 3 9 2 4 8 5 6\n",
            "9 6 1 5 3 7 2 8 4\n",
            "2 8 7 4 1 9 6 3 5\n",
            "3 4 5 2 8 6 1 7 9\n"
          ]
        }
      ]
    }
  ]
}
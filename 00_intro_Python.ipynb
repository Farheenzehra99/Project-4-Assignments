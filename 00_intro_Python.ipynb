{
  "nbformat": 4,
  "nbformat_minor": 0,
  "metadata": {
    "colab": {
      "provenance": [],
      "authorship_tag": "ABX9TyM2v71zFN3H+Njb4KgBX4XH",
      "include_colab_link": true
    },
    "kernelspec": {
      "name": "python3",
      "display_name": "Python 3"
    },
    "language_info": {
      "name": "python"
    }
  },
  "cells": [
    {
      "cell_type": "markdown",
      "metadata": {
        "id": "view-in-github",
        "colab_type": "text"
      },
      "source": [
        "<a href=\"https://colab.research.google.com/github/Farheenzehra99/Project-4-Assignments/blob/main/00_intro_Python.ipynb\" target=\"_parent\"><img src=\"https://colab.research.google.com/assets/colab-badge.svg\" alt=\"Open In Colab\"/></a>"
      ]
    },
    {
      "cell_type": "code",
      "execution_count": null,
      "metadata": {
        "id": "AhyDQB_uNCXS"
      },
      "outputs": [],
      "source": []
    },
    {
      "cell_type": "markdown",
      "source": [
        "**01_Add Two Numbers**"
      ],
      "metadata": {
        "id": "YnfWk9yRNoDA"
      }
    },
    {
      "cell_type": "code",
      "source": [
        "def main():\n",
        "    print(\"This program adds two numbers.\")\n",
        "    num1 = int(input(\"Enter first number: \"))\n",
        "    num2 = int(input(\"Enter second number: \"))\n",
        "    total = num1 + num2\n",
        "    print(f\"The total is {total}.\")\n",
        "\n",
        "if __name__ == '__main__':\n",
        "    main()\n",
        "\n",
        "\n"
      ],
      "metadata": {
        "colab": {
          "base_uri": "https://localhost:8080/"
        },
        "id": "zLdep95VN6gA",
        "outputId": "2dfd1f25-4454-4721-d1f6-ebb3ce497fd7"
      },
      "execution_count": 1,
      "outputs": [
        {
          "output_type": "stream",
          "name": "stdout",
          "text": [
            "This program adds two numbers.\n",
            "Enter first number: 8\n",
            "Enter second number: 7\n",
            "The total is 15.\n"
          ]
        }
      ]
    },
    {
      "cell_type": "markdown",
      "source": [
        "**01_Agreement Bot**"
      ],
      "metadata": {
        "id": "Mr-FafPhOCUQ"
      }
    },
    {
      "cell_type": "code",
      "source": [
        "def main():\n",
        "    favorite_animal = input(\"What's your favorite animal? \")\n",
        "    print(f\"My favorite animal is also {favorite_animal}!\")\n",
        "\n",
        "if __name__ == '__main__':\n",
        "    main()\n",
        "\n"
      ],
      "metadata": {
        "colab": {
          "base_uri": "https://localhost:8080/"
        },
        "id": "7iJIBhqgORwa",
        "outputId": "78d7e07a-5077-4a89-f714-179da207a73d"
      },
      "execution_count": 2,
      "outputs": [
        {
          "output_type": "stream",
          "name": "stdout",
          "text": [
            "What's your favorite animal? cat\n",
            "My favorite animal is also cat!\n"
          ]
        }
      ]
    },
    {
      "cell_type": "markdown",
      "source": [
        "**03_Farenheight To Celcius**"
      ],
      "metadata": {
        "id": "hRnzYAEbOVOo"
      }
    },
    {
      "cell_type": "code",
      "source": [
        "# 🌡️ Temperature Converter: Fahrenheit to Celsius\n",
        "# 📝 This script converts temperature from Fahrenheit to Celsius.\n",
        "\n",
        "def fahrenheit_to_celsius(fahrenheit):\n",
        "    \"\"\"\n",
        "    📌 Convert Fahrenheit to Celsius.\n",
        "\n",
        "    🔢 Formula: (°F - 32) × 5/9 = °C\n",
        "    \"\"\"\n",
        "    return (fahrenheit - 32) * 5.0 / 9.0\n",
        "\n",
        "def main():\n",
        "    # 🏁 Prompt user for input\n",
        "    try:\n",
        "        fahrenheit = float(input(\"❄️ Enter temperature in Fahrenheit: \"))\n",
        "\n",
        "        # 🔄 Convert temperature\n",
        "        celsius = fahrenheit_to_celsius(fahrenheit)\n",
        "\n",
        "        # 📢 Display the result\n",
        "        print(f\"✅ Temperature: {fahrenheit}°F = {celsius:.2f}°C 🌡️\")\n",
        "\n",
        "    except ValueError:\n",
        "        print(\"⚠️ Please enter a valid number! 🚫\")\n",
        "\n",
        "# 🚀 Run the script when executed\n",
        "if __name__ == '__main__':\n",
        "    main()"
      ],
      "metadata": {
        "colab": {
          "base_uri": "https://localhost:8080/"
        },
        "id": "1ZJbo676OmYs",
        "outputId": "0893cdca-4622-4c56-f2fb-b3de68af8e67"
      },
      "execution_count": 3,
      "outputs": [
        {
          "output_type": "stream",
          "name": "stdout",
          "text": [
            "❄️ Enter temperature in Fahrenheit: 34\n",
            "✅ Temperature: 34.0°F = 1.11°C 🌡️\n"
          ]
        }
      ]
    },
    {
      "cell_type": "markdown",
      "source": [
        "**04_How Old Are They**"
      ],
      "metadata": {
        "id": "LyWIJ4J8OwkG"
      }
    },
    {
      "cell_type": "code",
      "source": [
        "\n",
        "# 🎂 Age Calculator Program\n",
        "# 📝 This program calculates and displays the ages of five individuals based on a given pattern.\n",
        "\n",
        "def calculate_ages():\n",
        "    \"\"\"\n",
        "    📌 This function assigns and calculates ages based on a given sequence.\n",
        "    \"\"\"\n",
        "    # 🎭 Assign initial ages\n",
        "    alex = 21\n",
        "    bella = alex + 6\n",
        "    charlie = bella + 20\n",
        "    dylan = charlie + alex\n",
        "    emma = charlie\n",
        "\n",
        "    # 📢 Display the calculated ages\n",
        "    print(f\"🎈 Alex is {alex} years old.\")\n",
        "    print(f\"🎈 Bella is {bella} years old.\")\n",
        "    print(f\"🎈 Charlie is {charlie} years old.\")\n",
        "    print(f\"🎈 Dylan is {dylan} years old.\")\n",
        "    print(f\"🎈 Emma is {emma} years old.\")\n",
        "\n",
        "# 🚀 Run the program\n",
        "if __name__ == '__main__':\n",
        "    calculate_ages()"
      ],
      "metadata": {
        "colab": {
          "base_uri": "https://localhost:8080/"
        },
        "id": "0vqOScaEO4AY",
        "outputId": "cdae5515-2d67-4abb-eaff-7eacd33d8bc3"
      },
      "execution_count": 4,
      "outputs": [
        {
          "output_type": "stream",
          "name": "stdout",
          "text": [
            "🎈 Alex is 21 years old.\n",
            "🎈 Bella is 27 years old.\n",
            "🎈 Charlie is 47 years old.\n",
            "🎈 Dylan is 68 years old.\n",
            "🎈 Emma is 47 years old.\n"
          ]
        }
      ]
    },
    {
      "cell_type": "markdown",
      "source": [
        "**05_TRiangle Perimeter**"
      ],
      "metadata": {
        "id": "7XaV45MpPaaw"
      }
    },
    {
      "cell_type": "code",
      "source": [
        "def main():\n",
        "    # Get the 3 side lengths of the triangle\n",
        "    side1 = float(input(\"What is the length of side 1? \"))\n",
        "    side2 = float(input(\"What is the length of side 2? \"))\n",
        "    side3 = float(input(\"What is the length of side 3? \"))\n",
        "\n",
        "    # Calculate perimeter\n",
        "    perimeter = side1 + side2 + side3\n",
        "\n",
        "    # Print the perimeter\n",
        "    print(f\"The perimeter of the triangle is {perimeter}\")\n",
        "\n",
        "if __name__ == '__main__':\n",
        "    main()\n"
      ],
      "metadata": {
        "colab": {
          "base_uri": "https://localhost:8080/"
        },
        "id": "i39fcrJvP6QS",
        "outputId": "34131f90-811a-45a2-f3b7-be1437f3acb9"
      },
      "execution_count": 5,
      "outputs": [
        {
          "output_type": "stream",
          "name": "stdout",
          "text": [
            "What is the length of side 1? 2\n",
            "What is the length of side 2? 3\n",
            "What is the length of side 3? 2\n",
            "The perimeter of the triangle is 7.0\n"
          ]
        }
      ]
    },
    {
      "cell_type": "markdown",
      "source": [
        "**06_Square Numbers**"
      ],
      "metadata": {
        "id": "admaWI7ZP8eP"
      }
    },
    {
      "cell_type": "code",
      "source": [
        "# 🟢 Square Calculator 🟢\n",
        "# 🎯 This script calculates and displays the square of a given number.\n",
        "\n",
        "def calculate_square():\n",
        "    \"\"\"\n",
        "    📌 Function to calculate the square of a user-input number.\n",
        "    \"\"\"\n",
        "    try:\n",
        "        # 🔢 Get the number from the user\n",
        "        num = float(input(\"🔢 Type a number to see its square: \"))\n",
        "\n",
        "        # 🧮 Calculate the square\n",
        "        square = num ** 2\n",
        "\n",
        "        # 📢 Display the result\n",
        "        print(f\"✅ {num} squared is {square} 🎯\")\n",
        "\n",
        "    except ValueError:\n",
        "        print(\"⚠️ Please enter a valid numeric value! 🚫\")\n",
        "\n",
        "# 🚀 Run the program\n",
        "if __name__ == '__main__':\n",
        "    calculate_square()"
      ],
      "metadata": {
        "colab": {
          "base_uri": "https://localhost:8080/"
        },
        "id": "brienuRkQLTh",
        "outputId": "45c7e398-9371-48ce-a535-f121ba2a3f51"
      },
      "execution_count": 6,
      "outputs": [
        {
          "output_type": "stream",
          "name": "stdout",
          "text": [
            "🔢 Type a number to see its square: 4\n",
            "✅ 4.0 squared is 16.0 🎯\n"
          ]
        }
      ]
    }
  ]
}
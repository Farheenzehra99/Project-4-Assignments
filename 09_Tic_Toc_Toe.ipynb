{
  "nbformat": 4,
  "nbformat_minor": 0,
  "metadata": {
    "colab": {
      "provenance": [],
      "authorship_tag": "ABX9TyPMAYkpKzA7sGbXHuW6TOJR",
      "include_colab_link": true
    },
    "kernelspec": {
      "name": "python3",
      "display_name": "Python 3"
    },
    "language_info": {
      "name": "python"
    }
  },
  "cells": [
    {
      "cell_type": "markdown",
      "metadata": {
        "id": "view-in-github",
        "colab_type": "text"
      },
      "source": [
        "<a href=\"https://colab.research.google.com/github/Farheenzehra99/Project-4-Assignments/blob/main/09_Tic_Toc_Toe.ipynb\" target=\"_parent\"><img src=\"https://colab.research.google.com/assets/colab-badge.svg\" alt=\"Open In Colab\"/></a>"
      ]
    },
    {
      "cell_type": "markdown",
      "source": [
        "Project 09: Tic Toc Toe"
      ],
      "metadata": {
        "id": "UEqpmZBEnOf_"
      }
    },
    {
      "cell_type": "code",
      "source": [
        "import os\n",
        "\n",
        "def clear_output():\n",
        "    os.system('cls' if os.name == 'nt' else 'clear')\n",
        "\n",
        "def print_board(board):\n",
        "    clear_output()  # Clears cell output between moves\n",
        "    print(f\"\"\"\n",
        "     {board[0]} | {board[1]} | {board[2]}\n",
        "    -----------\n",
        "     {board[3]} | {board[4]} | {board[5]}\n",
        "    -----------\n",
        "     {board[6]} | {board[7]} | {board[8]}\n",
        "    \"\"\")\n",
        "\n",
        "def play_game():\n",
        "    board = [\" \"]*9\n",
        "    current_player = \"X\"\n",
        "\n",
        "    while True:\n",
        "        print_board(board)\n",
        "        print(f\"Player {current_player}'s turn\")\n",
        "\n",
        "        # Get valid move\n",
        "        while True:\n",
        "            try:\n",
        "                move = int(input(\"Enter position (1-9): \")) - 1\n",
        "                if 0 <= move <= 8 and board[move] == \" \":\n",
        "                    break\n",
        "                print(\"Invalid move! Try again.\")\n",
        "            except:\n",
        "                print(\"Please enter a number 1-9!\")\n",
        "\n",
        "        # Make move\n",
        "        board[move] = current_player\n",
        "\n",
        "        # Check for winner\n",
        "        winning_combos = [\n",
        "            [0,1,2], [3,4,5], [6,7,8],  # rows\n",
        "            [0,3,6], [1,4,7], [2,5,8],    # columns\n",
        "            [0,4,8], [2,4,6]              # diagonals\n",
        "        ]\n",
        "\n",
        "        for combo in winning_combos:\n",
        "            if all(board[i] == current_player for i in combo):\n",
        "                print_board(board)\n",
        "                print(f\"Player {current_player} wins!\")\n",
        "                return\n",
        "\n",
        "        # Check for tie\n",
        "        if \" \" not in board:\n",
        "            print_board(board)\n",
        "            print(\"It's a tie!\")\n",
        "            return\n",
        "\n",
        "        # Switch player\n",
        "        current_player = \"O\" if current_player == \"X\" else \"X\"\n",
        "\n",
        "# Start the game\n",
        "play_game()"
      ],
      "metadata": {
        "id": "k9A_ztHcnWzE"
      },
      "execution_count": null,
      "outputs": []
    }
  ]
}
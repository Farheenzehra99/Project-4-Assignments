{
  "cells": [
    {
      "cell_type": "markdown",
      "metadata": {
        "id": "view-in-github",
        "colab_type": "text"
      },
      "source": [
        "<a href=\"https://colab.research.google.com/github/Farheenzehra99/Project-4-Assignments/blob/main/Mad_Libs.ipynb\" target=\"_parent\"><img src=\"https://colab.research.google.com/assets/colab-badge.svg\" alt=\"Open In Colab\"/></a>"
      ]
    },
    {
      "cell_type": "markdown",
      "metadata": {
        "id": "QTse0MS7jlSN"
      },
      "source": [
        "**Project 01: 🤖 Supercharged Mad Libs - The Ultimate Fun Story Generator!**\n"
      ]
    },
    {
      "cell_type": "code",
      "execution_count": null,
      "metadata": {
        "colab": {
          "background_save": true,
          "base_uri": "https://localhost:8080/"
        },
        "id": "_PW4G8FxkR1V",
        "outputId": "693108c3-4278-4f79-bc5c-a7e6e17c62bd"
      },
      "outputs": [
        {
          "name": "stdout",
          "output_type": "stream",
          "text": [
            "\n",
            "🌟 Welcome to the Ultimate Mad Libs Story Generator! 🎭🤣\n",
            "⚡ Let's create the wackiest, silliest, and most legendary story EVER! 🚀🔥\n",
            "----------------------------------------------------------------------\n",
            "🎨 Mixing colors...\n",
            "🤪 Generating nonsense...\n",
            "📝 Writing ridiculous sentences...\n"
          ]
        }
      ],
      "source": [
        "import random\n",
        "import time\n",
        "\n",
        "# 🎉 Welcome Message\n",
        "print(\"\\n🌟 Welcome to the Ultimate Mad Libs Story Generator! 🎭🤣\")\n",
        "print(\"⚡ Let's create the wackiest, silliest, and most legendary story EVER! 🚀🔥\")\n",
        "print(\"-\" * 70)\n",
        "\n",
        "# ⏳ Funny Loading Animation\n",
        "loading = [\"🎨 Mixing colors...\", \"🤪 Generating nonsense...\", \"📝 Writing ridiculous sentences...\"]\n",
        "for message in loading:\n",
        "    print(message)\n",
        "    time.sleep(1)\n",
        "\n",
        "# 🎭 Collecting Funny User Inputs\n",
        "def get_input(prompt, examples):\n",
        "    example = random.choice(examples)\n",
        "    return input(f\"{prompt} (Example: {example}): \").strip()\n",
        "\n",
        "name = get_input(\"Enter a hilarious name 😂\", [\"Captain Wacky\", \"Sir Lollipop\", \"Banana Joe\"])\n",
        "place = get_input(\"Enter a bizarre place 🌍\", [\"Underwater Disco\", \"Rainbow Volcano\", \"Bubblegum Castle\"])\n",
        "food = get_input(\"Enter a ridiculous food 🍔\", [\"Marshmallow Pizza\", \"Cotton Candy Soup\", \"Pickle Cake\"])\n",
        "color = get_input(\"Enter an absurd color 🎨\", [\"Invisibility Orange\", \"Glow-in-the-Dark Purple\", \"Polka-Dot Blue\"])\n",
        "animal = get_input(\"Enter a crazy animal 🐒\", [\"Rocket-Powered Turtle\", \"Dancing Llama\", \"Unicorn Penguin\"])\n",
        "verb = get_input(\"Enter a silly action 💃\", [\"Moonwalking\", \"Juggling Spaghetti\", \"Breakdancing\"])\n",
        "emotion = get_input(\"Enter an over-the-top emotion 😂\", [\"Confusedly Excited\", \"Dramatically Shocked\", \"Ridiculously Joyful\"])\n",
        "superpower = get_input(\"Enter a useless superpower 🦸‍♂️\", [\"Burping Rainbows\", \"Sneezing Glitter\", \"Talking to Bananas\"])\n",
        "\n",
        "# 🎭 Hilarious Story Templates\n",
        "stories = [\n",
        "    f\"One day, {name} traveled to {place} 🌍 to meet the legendary {color} {animal}. Suddenly, the {animal} started {verb} while eating {food}! 🥴 {name} was so {emotion} that they accidentally unlocked their hidden superpower: {superpower}! 💥 Everyone laughed so hard, they fell into a pool of jellybeans! 😂\",\n",
        "\n",
        "    f\"In {place} 🏝️, {name} ordered {food} from a {color} robot 🤖. Out of nowhere, a {animal} appeared and started {verb}! 😱 People were {emotion}, but {name} used their {superpower} to save the day! Now, every Tuesday, they host a worldwide {animal} {verb} contest! 🎉\",\n",
        "\n",
        "    f\"{name} was {verb} at {place} 🎢 when a {color} {animal} stole their {food}. Overcome with {emotion}, {name} activated their superpower, {superpower}, and chased the thief... only to slip on a banana peel 🍌 and launch into the sky like a rocket! 🚀 Now, they live on the moon! 🌕\",\n",
        "\n",
        "    f\"During a {emotion} day at {place} 🌈, {name} saw a {color} {animal} {verb} on top of a mountain of {food}. Using their {superpower} 🦸‍♀️, {name} transformed everything into a giant circus 🎪! The {animal} won a trophy made of chocolate! 🍫🏆\",\n",
        "\n",
        "    f\"{name} found a secret portal in {place} 🌀 leading to a world ruled by {animal}s! To escape, {name} had to {verb} while eating {food}. With their {superpower}, they hypnotized the {animal} king 👑 and became the ruler of the universe! 🌟\"\n",
        "]\n",
        "\n",
        "# 🎊 Generating & Displaying a Random Funny Story\n",
        "story = random.choice(stories)\n",
        "\n",
        "print(\"\\n🎭 Here’s Your Wacky Mad Libs Story! 🎉\")\n",
        "print(\"=\" * 70)\n",
        "print(story)\n",
        "print(\"=\" * 70)\n",
        "\n",
        "# 🎮 Play Again Loop\n",
        "while True:\n",
        "    play_again = input(\"\\n🤪 Do you want to create another ridiculous story? (yes/no): \").lower()\n",
        "    if play_again == 'yes':\n",
        "        story = random.choice(stories)\n",
        "        print(\"\\n🎭 Here’s Your Next Crazy Story! 🎉\")\n",
        "        print(\"=\" * 70)\n",
        "        print(story)\n",
        "        print(\"=\" * 70)\n",
        "    elif play_again == 'no':\n",
        "        print(\"\\n🎊 Thanks for playing! Keep laughing and stay silly! 🎭🤣\")\n",
        "        break\n",
        "    else:\n",
        "        print(\"😵 Oops! Please type 'yes' or 'no'.\")\n"
      ]
    }
  ],
  "metadata": {
    "colab": {
      "provenance": [],
      "authorship_tag": "ABX9TyN2I9HXjFXnNKqIfSHxulVo",
      "include_colab_link": true
    },
    "kernelspec": {
      "display_name": "Python 3",
      "name": "python3"
    },
    "language_info": {
      "name": "python"
    }
  },
  "nbformat": 4,
  "nbformat_minor": 0
}
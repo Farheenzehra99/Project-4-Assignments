{
  "nbformat": 4,
  "nbformat_minor": 0,
  "metadata": {
    "colab": {
      "provenance": [],
      "authorship_tag": "ABX9TyOhJ9yk/nXFuYuv/Q2koDvO",
      "include_colab_link": true
    },
    "kernelspec": {
      "name": "python3",
      "display_name": "Python 3"
    },
    "language_info": {
      "name": "python"
    }
  },
  "cells": [
    {
      "cell_type": "markdown",
      "metadata": {
        "id": "view-in-github",
        "colab_type": "text"
      },
      "source": [
        "<a href=\"https://colab.research.google.com/github/Farheenzehra99/Project-4-Assignments/blob/main/Guess_the_Number(user).ipynb\" target=\"_parent\"><img src=\"https://colab.research.google.com/assets/colab-badge.svg\" alt=\"Open In Colab\"/></a>"
      ]
    },
    {
      "cell_type": "markdown",
      "source": [
        "**Project 03: 🎮 Guess the Number - Python Game (User Mode)**"
      ],
      "metadata": {
        "id": "1UpeRZ-7t6QM"
      }
    },
    {
      "cell_type": "code",
      "source": [
        "import random\n",
        "\n",
        "def guess_the_number():\n",
        "    print(\"🎮 Welcome to the 'Guess the Number' Game! 🔢\")\n",
        "    print(\"🤖 The computer has chosen a number between 1 and 50. Can you guess it?\")\n",
        "\n",
        "    # Generate a random number between 1 and 100\n",
        "    secret_number = random.randint(1, 50)\n",
        "    attempts = 0\n",
        "\n",
        "    while True:\n",
        "        try:\n",
        "            user_guess = int(input(\"Enter your guess (1-50): 🎯 \"))\n",
        "            attempts += 1\n",
        "\n",
        "            if user_guess < 1 or user_guess > 100:\n",
        "                print(\"🚨 Please enter a number between 1 and 50!\")\n",
        "                continue\n",
        "\n",
        "            if user_guess < secret_number:\n",
        "                print(\"📉 Too low! Try again.\")\n",
        "            elif user_guess > secret_number:\n",
        "                print(\"📈 Too high! Try again.\")\n",
        "            else:\n",
        "                print(f\"🎉 Congratulations! You guessed the number {secret_number} in {attempts} attempts! 🏆\")\n",
        "                break  # Exit loop when guessed correctly\n",
        "        except ValueError:\n",
        "            print(\"⚠️ Invalid input! Please enter a number.\")\n",
        "\n",
        "# Run the game\n",
        "guess_the_number()\n"
      ],
      "metadata": {
        "colab": {
          "base_uri": "https://localhost:8080/"
        },
        "id": "kqdwUpV8uB4w",
        "outputId": "4c592c38-9cd4-4e41-9015-1530b71c360d"
      },
      "execution_count": null,
      "outputs": [
        {
          "output_type": "stream",
          "name": "stdout",
          "text": [
            "🎮 Welcome to the 'Guess the Number' Game! 🔢\n",
            "🤖 The computer has chosen a number between 1 and 50. Can you guess it?\n",
            "Enter your guess (1-50): 🎯 48\n",
            "📈 Too high! Try again.\n",
            "Enter your guess (1-50): 🎯 42\n",
            "📈 Too high! Try again.\n",
            "Enter your guess (1-50): 🎯 35\n",
            "📈 Too high! Try again.\n",
            "Enter your guess (1-50): 🎯 30\n",
            "📈 Too high! Try again.\n",
            "Enter your guess (1-50): 🎯 25\n",
            "🎉 Congratulations! You guessed the number 25 in 5 attempts! 🏆\n"
          ]
        }
      ]
    }
  ]
}
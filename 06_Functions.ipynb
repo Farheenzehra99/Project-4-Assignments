{
  "nbformat": 4,
  "nbformat_minor": 0,
  "metadata": {
    "colab": {
      "provenance": [],
      "authorship_tag": "ABX9TyNKs1FabinEWuY+ZZKMWZGB",
      "include_colab_link": true
    },
    "kernelspec": {
      "name": "python3",
      "display_name": "Python 3"
    },
    "language_info": {
      "name": "python"
    }
  },
  "cells": [
    {
      "cell_type": "markdown",
      "metadata": {
        "id": "view-in-github",
        "colab_type": "text"
      },
      "source": [
        "<a href=\"https://colab.research.google.com/github/Farheenzehra99/Project-4-Assignments/blob/main/06_Functions.ipynb\" target=\"_parent\"><img src=\"https://colab.research.google.com/assets/colab-badge.svg\" alt=\"Open In Colab\"/></a>"
      ]
    },
    {
      "cell_type": "markdown",
      "source": [
        "**00. Averages**"
      ],
      "metadata": {
        "id": "RRKQm0CKx4H_"
      }
    },
    {
      "cell_type": "code",
      "source": [
        "def average(a: float, b: float) -> float:\n",
        "    \"\"\"\n",
        "    Returns the number which is halfway between a and b\n",
        "    \"\"\"\n",
        "    return (a + b) / 2\n",
        "\n",
        "def main():\n",
        "    print(\"Average Calculation Program\")\n",
        "\n",
        "    num1 = float(input(\"Enter first number: \"))\n",
        "    num2 = float(input(\"Enter second number: \"))\n",
        "\n",
        "    avg_result = average(num1, num2)\n",
        "    print(f\"The average of {num1} and {num2} is: {avg_result}\")\n",
        "\n",
        "if __name__ == \"__main__\":\n",
        "    main()\n",
        "\n",
        "\n"
      ],
      "metadata": {
        "id": "UTOQKQFbyAfe"
      },
      "execution_count": null,
      "outputs": []
    },
    {
      "cell_type": "markdown",
      "source": [
        "**01. Choatic Counting**"
      ],
      "metadata": {
        "id": "Mmm-M7u1yI2p"
      }
    },
    {
      "cell_type": "code",
      "source": [
        "import random\n",
        "\n",
        "DONE_LIKELIHOOD = 0.3  # Adjust likelihood of stopping early\n",
        "\n",
        "def done():\n",
        "    \"\"\"Returns True with a probability of DONE_LIKELIHOOD\"\"\"\n",
        "    return random.random() < DONE_LIKELIHOOD\n",
        "\n",
        "def chaotic_counting():\n",
        "    for i in range(10):\n",
        "        curr_num = i + 1\n",
        "        if done():\n",
        "            return  # Ends function execution and returns to main()\n",
        "        print(curr_num)\n",
        "\n",
        "def main():\n",
        "    print(\"I'm going to count until 10 or until I feel like stopping, whichever comes first.\")\n",
        "    chaotic_counting()\n",
        "    print(\"I'm done\")\n",
        "\n",
        "if __name__ == \"__main__\":\n",
        "    main()\n",
        "\n"
      ],
      "metadata": {
        "id": "E-fEtjPGyNNM"
      },
      "execution_count": null,
      "outputs": []
    },
    {
      "cell_type": "markdown",
      "source": [
        "**02. Count Even**"
      ],
      "metadata": {
        "id": "nPbZhziCyUL6"
      }
    },
    {
      "cell_type": "code",
      "source": [
        "def count_even(lst):\n",
        "    \"\"\"\n",
        "    Returns number of even numbers in the list.\n",
        "    \"\"\"\n",
        "    count = sum(1 for num in lst if num % 2 == 0)\n",
        "    print(f\"Number of even numbers: {count}\")\n",
        "\n",
        "def get_list_of_ints():\n",
        "    \"\"\"\n",
        "    Reads in integers until the user presses enter and returns the resulting list.\n",
        "    \"\"\"\n",
        "    lst = []\n",
        "    while True:\n",
        "        user_input = input(\"Enter an integer or press enter to stop: \")\n",
        "        if user_input == \"\":\n",
        "            break\n",
        "        try:\n",
        "            lst.append(int(user_input))\n",
        "        except ValueError:\n",
        "            print(\"Invalid input. Please enter a valid integer.\")\n",
        "    return lst\n",
        "\n",
        "def main():\n",
        "    lst = get_list_of_ints()\n",
        "    count_even(lst)\n",
        "\n",
        "if __name__ == '__main__':\n",
        "    main()\n",
        "\n"
      ],
      "metadata": {
        "id": "AvrPVxuQyl3a"
      },
      "execution_count": null,
      "outputs": []
    },
    {
      "cell_type": "markdown",
      "source": [
        "**04. Double**"
      ],
      "metadata": {
        "id": "-mkc8SNvyne5"
      }
    },
    {
      "cell_type": "code",
      "source": [
        "def double(num: int):\n",
        "    return num * 2\n",
        "\n",
        "def main():\n",
        "    num = int(input(\"Enter a number: \"))\n",
        "    num_times_2 = double(num)\n",
        "    print(\"Double that is\", num_times_2)\n",
        "\n",
        "if __name__ == '__main__':\n",
        "    main()\n",
        "\n"
      ],
      "metadata": {
        "id": "DguscxxsyvBF"
      },
      "execution_count": null,
      "outputs": []
    },
    {
      "cell_type": "markdown",
      "source": [
        "**05. Get Name**"
      ],
      "metadata": {
        "id": "o8YZ-gH4y2XG"
      }
    },
    {
      "cell_type": "code",
      "source": [
        "def get_name():\n",
        "    return \"ANNA\"  # You can change this to your name\n",
        "\n",
        "# There is no need to edit code beyond this point\n",
        "\n",
        "def main():\n",
        "    name = get_name()  # get_name() will return a string which we store to the 'name' variable here\n",
        "    print(\"Howdy\", name, \"! 🤠\")\n",
        "\n",
        "if __name__ == '__main__':\n",
        "    main()\n"
      ],
      "metadata": {
        "id": "_VgqGU7TzBul"
      },
      "execution_count": null,
      "outputs": []
    },
    {
      "cell_type": "markdown",
      "source": [
        "**06. is_odd**"
      ],
      "metadata": {
        "id": "s_HwiAyUzLWO"
      }
    },
    {
      "cell_type": "code",
      "source": [
        "def is_odd(value: int) -> bool:\n",
        "    \"\"\"\n",
        "    Checks to see if a value is odd. If it is, returns True.\n",
        "    \"\"\"\n",
        "    return value % 2 == 1\n",
        "\n",
        "def main():\n",
        "    for i in range(10, 20):\n",
        "        if is_odd(i):\n",
        "            print(f\"{i} odd\")\n",
        "        else:\n",
        "            print(f\"{i} even\")\n",
        "\n",
        "if __name__ == \"__main__\":\n",
        "    main()\n"
      ],
      "metadata": {
        "id": "wYOj0jsqzQSn"
      },
      "execution_count": null,
      "outputs": []
    },
    {
      "cell_type": "markdown",
      "source": [
        "**07. Prnit Divisor**"
      ],
      "metadata": {
        "id": "rIHiHXUozZfs"
      }
    },
    {
      "cell_type": "code",
      "source": [
        "def print_divisors(num: int):\n",
        "    print(\"Here are the divisors of\", num)\n",
        "    for i in range(1, num + 1):  # Loop from 1 to num inclusive\n",
        "        if num % i == 0:  # Check if i is a divisor of num\n",
        "            print(i, end=\" \")\n",
        "    print()\n",
        "\n",
        "def main():\n",
        "    num = int(input(\"Enter a number: \"))  # Get user input\n",
        "    print_divisors(num)  # Call function to print divisors\n",
        "\n",
        "if __name__ == \"__main__\":\n",
        "    main()\n"
      ],
      "metadata": {
        "id": "9SdbT6cOzeU5"
      },
      "execution_count": null,
      "outputs": []
    },
    {
      "cell_type": "markdown",
      "source": [
        "**08. Print_Multiple**"
      ],
      "metadata": {
        "id": "MGz54dxezmLz"
      }
    },
    {
      "cell_type": "code",
      "source": [
        "def print_multiple(message: str, repeats: int):\n",
        "    for _ in range(repeats):\n",
        "        print(message)\n",
        "\n",
        "def main():\n",
        "    message = input(\"Please type a message: \")\n",
        "    repeats = int(input(\"Enter a number of times to repeat your message: \"))\n",
        "    print_multiple(message, repeats)\n",
        "\n",
        "if __name__ == \"__main__\":\n",
        "    main()\n"
      ],
      "metadata": {
        "id": "br0tpY0nzut_"
      },
      "execution_count": null,
      "outputs": []
    },
    {
      "cell_type": "markdown",
      "source": [
        "**09. Sentence Generator**"
      ],
      "metadata": {
        "id": "3wvCnngUz0OB"
      }
    },
    {
      "cell_type": "code",
      "source": [
        "\n",
        "\n",
        "def make_sentence(word, part_of_speech):\n",
        "    if part_of_speech == 0:\n",
        "        print(f\"The {word} is essential for our survival.\")\n",
        "    elif part_of_speech == 1:\n",
        "        print(f\"Every morning, I {word} to start my day.\")\n",
        "    elif part_of_speech == 2:\n",
        "        print(f\"The weather today is absolutely {word}.\")\n",
        "    else:\n",
        "        print(\"Part of speech must be 0, 1, or 2! Can't make a sentence.\")\n",
        "\n",
        "def main():\n",
        "    word = input(\"Please type a noun, verb, or adjective: \")\n",
        "    print(\"Is this a noun, verb, or adjective?\")\n",
        "    try:\n",
        "        part_of_speech = int(input(\"Type 0 for noun, 1 for verb, 2 for adjective: \"))\n",
        "        make_sentence(word, part_of_speech)\n",
        "    except ValueError:\n",
        "        print(\"Invalid input! Please enter 0, 1, or 2.\")\n",
        "\n",
        "if __name__ == '__main__':\n",
        "    main()"
      ],
      "metadata": {
        "id": "ganVkf50z9U8"
      },
      "execution_count": null,
      "outputs": []
    },
    {
      "cell_type": "markdown",
      "source": [
        "**10. Print_ones_digit**"
      ],
      "metadata": {
        "id": "pdilJ94Wz_I0"
      }
    },
    {
      "cell_type": "code",
      "source": [
        "def print_ones_digit(num):\n",
        "    print(\"The ones digit is\", num % 10)\n",
        "\n",
        "def main():\n",
        "    num = int(input(\"Enter a number: \"))\n",
        "    print_ones_digit(num)\n",
        "\n",
        "if __name__ == '__main__':\n",
        "    main()\n",
        "\n",
        "\n"
      ],
      "metadata": {
        "id": "WRVN1xcE0LTE"
      },
      "execution_count": null,
      "outputs": []
    }
  ]
}
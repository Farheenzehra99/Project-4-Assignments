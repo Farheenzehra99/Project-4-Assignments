{
  "nbformat": 4,
  "nbformat_minor": 0,
  "metadata": {
    "colab": {
      "provenance": [],
      "authorship_tag": "ABX9TyPjotShNR/0hsO/Uct9wsk+",
      "include_colab_link": true
    },
    "kernelspec": {
      "name": "python3",
      "display_name": "Python 3"
    },
    "language_info": {
      "name": "python"
    }
  },
  "cells": [
    {
      "cell_type": "markdown",
      "metadata": {
        "id": "view-in-github",
        "colab_type": "text"
      },
      "source": [
        "<a href=\"https://colab.research.google.com/github/Farheenzehra99/Project-4-Assignments/blob/main/07_information_Flow.ipynb\" target=\"_parent\"><img src=\"https://colab.research.google.com/assets/colab-badge.svg\" alt=\"Open In Colab\"/></a>"
      ]
    },
    {
      "cell_type": "markdown",
      "source": [
        "**00. Choosing Returns**"
      ],
      "metadata": {
        "id": "XzPI1uYH0sXt"
      }
    },
    {
      "cell_type": "code",
      "source": [
        "ADULT_AGE: int = 18  # U.S. legal adult age\n",
        "\n",
        "def is_adult(age: int) -> bool:\n",
        "    return age >= ADULT_AGE\n",
        "\n",
        "def main():\n",
        "    age = int(input(\"How old is this person?: \"))\n",
        "    print(is_adult(age))\n",
        "\n",
        "if __name__ == \"__main__\":\n",
        "    main()\n"
      ],
      "metadata": {
        "id": "2KhJ7yib0y3e"
      },
      "execution_count": null,
      "outputs": []
    },
    {
      "cell_type": "markdown",
      "source": [
        "**01. Greetings**"
      ],
      "metadata": {
        "id": "jeuCxhfA06bP"
      }
    },
    {
      "cell_type": "code",
      "source": [
        "def greet(name: str) -> str:\n",
        "    return \"Greetings \" + name + \"!\"\n",
        "\n",
        "def main():\n",
        "    name = input(\"What's your name? \")\n",
        "    print(greet(name))\n",
        "\n",
        "if __name__ == \"__main__\":\n",
        "    main()\n"
      ],
      "metadata": {
        "id": "ctrkgbBU099C"
      },
      "execution_count": null,
      "outputs": []
    },
    {
      "cell_type": "markdown",
      "source": [
        "**02. In_range**"
      ],
      "metadata": {
        "id": "OEquC0SD1IIf"
      }
    },
    {
      "cell_type": "code",
      "source": [
        "def in_range(n: int, low: int, high: int) -> bool:\n",
        "    \"\"\"\n",
        "    Returns True if n is between low and high, inclusive.\n",
        "    high is guaranteed to be greater than low.\n",
        "    \"\"\"\n",
        "    return low <= n <= high\n",
        "\n",
        "def main():\n",
        "    n = int(input(\"Enter a number: \"))\n",
        "    low = int(input(\"Enter the lower bound: \"))\n",
        "    high = int(input(\"Enter the upper bound: \"))\n",
        "    print(in_range(n, low, high))\n",
        "\n",
        "if __name__ == \"__main__\":\n",
        "    main()\n"
      ],
      "metadata": {
        "id": "GdH-R6tm1OEr"
      },
      "execution_count": null,
      "outputs": []
    },
    {
      "cell_type": "markdown",
      "source": [
        "**03. In_Stock**"
      ],
      "metadata": {
        "id": "h3nHfhvJ1Vmc"
      }
    },
    {
      "cell_type": "code",
      "source": [
        "def num_in_stock(fruit: str) -> int:\n",
        "    \"\"\"\n",
        "    This function returns the number of specified fruits in stock.\n",
        "    \"\"\"\n",
        "    inventory = {\n",
        "        \"banana\": 10,\n",
        "        \"mango\": 5,\n",
        "        \"grape\": 50\n",
        "    }\n",
        "    return inventory.get(fruit.lower(), 0)\n",
        "\n",
        "def main():\n",
        "    fruit = input(\"Enter a fruit: \")\n",
        "    stock = num_in_stock(fruit)\n",
        "\n",
        "    if stock == 0:\n",
        "        print(\"This fruit is not in stock.\")\n",
        "    else:\n",
        "        print(\"This fruit is in stock! Here is how many:\")\n",
        "        print(stock)\n",
        "\n",
        "if __name__ == \"__main__\":\n",
        "    main()"
      ],
      "metadata": {
        "id": "q0xLx1IW1cIY"
      },
      "execution_count": null,
      "outputs": []
    },
    {
      "cell_type": "markdown",
      "source": [
        "**04. Multiple Returns**"
      ],
      "metadata": {
        "id": "MhBkFuLq1s3-"
      }
    },
    {
      "cell_type": "code",
      "source": [
        "def get_user_info():\n",
        "    \"\"\"\n",
        "    Asks the user for their first name, last name, and email address,\n",
        "    then returns these as a tuple.\n",
        "    \"\"\"\n",
        "    first_name = input(\"What is your first name?: \")\n",
        "    last_name = input(\"What is your last name?: \")\n",
        "    email_address = input(\"What is your email address?: \")\n",
        "\n",
        "    return first_name, last_name, email_address\n",
        "\n",
        "def main():\n",
        "    user_data = get_user_info()\n",
        "    print(\"Received the following user data:\", user_data)\n",
        "\n",
        "if __name__ == \"__main__\":\n",
        "    main()\n"
      ],
      "metadata": {
        "id": "60g9VifT1y_u"
      },
      "execution_count": null,
      "outputs": []
    },
    {
      "cell_type": "markdown",
      "source": [
        "**05. Substract_7**"
      ],
      "metadata": {
        "id": "ahgAWT4U1_dw"
      }
    },
    {
      "cell_type": "code",
      "source": [
        "def subtract_seven(num):\n",
        "    \"\"\"\n",
        "    Subtracts 7 from the given number and returns the result.\n",
        "    \"\"\"\n",
        "    return num - 7\n",
        "\n",
        "def main():\n",
        "    num = 7\n",
        "    num = subtract_seven(num)\n",
        "    print(\"This should be zero:\", num)\n",
        "\n",
        "if __name__ == \"__main__\":\n",
        "    main()\n"
      ],
      "metadata": {
        "id": "MEnCnoRK2EWX"
      },
      "execution_count": null,
      "outputs": []
    }
  ]
}
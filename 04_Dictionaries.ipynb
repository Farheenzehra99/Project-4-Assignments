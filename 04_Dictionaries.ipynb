{
  "nbformat": 4,
  "nbformat_minor": 0,
  "metadata": {
    "colab": {
      "provenance": [],
      "authorship_tag": "ABX9TyOEK+kVADFRPACmFOxcb0b7",
      "include_colab_link": true
    },
    "kernelspec": {
      "name": "python3",
      "display_name": "Python 3"
    },
    "language_info": {
      "name": "python"
    }
  },
  "cells": [
    {
      "cell_type": "markdown",
      "metadata": {
        "id": "view-in-github",
        "colab_type": "text"
      },
      "source": [
        "<a href=\"https://colab.research.google.com/github/Farheenzehra99/Project-4-Assignments/blob/main/04_Dictionaries.ipynb\" target=\"_parent\"><img src=\"https://colab.research.google.com/assets/colab-badge.svg\" alt=\"Open In Colab\"/></a>"
      ]
    },
    {
      "cell_type": "markdown",
      "source": [
        "**00. Count Nums**"
      ],
      "metadata": {
        "id": "-xXBONeKnjdH"
      }
    },
    {
      "cell_type": "code",
      "source": [
        "# 🔢 Number Frequency Counter\n",
        "\n",
        "def count_frequencies():\n",
        "    \"\"\"\n",
        "    Collects numbers from user input and counts their occurrences.\n",
        "\n",
        "    Returns:\n",
        "    - dict: A dictionary with numbers as keys and their frequencies as values.\n",
        "    \"\"\"\n",
        "    print(\"\\n🔢 Welcome to the Number Frequency Counter!\")\n",
        "    print(\"ℹ️  Enter numbers one by one. Press Enter without input to finish.\\n\")\n",
        "\n",
        "    frequency_dict = {}  # Dictionary to store number counts\n",
        "\n",
        "    while True:\n",
        "        try:\n",
        "            user_input = input(\"Enter a number (or press Enter to finish): \")\n",
        "\n",
        "            if user_input == \"\":  # Stop input collection if Enter is pressed\n",
        "                break\n",
        "\n",
        "            number = int(user_input)  # Convert input to integer\n",
        "\n",
        "            # Count occurrences\n",
        "            frequency_dict[number] = frequency_dict.get(number, 0) + 1\n",
        "\n",
        "        except ValueError:\n",
        "            print(\"❌ Invalid input! Please enter a valid number.\")\n",
        "\n",
        "    # Display results\n",
        "    print(\"\\n📊 Number Frequency Results:\")\n",
        "    if frequency_dict:\n",
        "        for num, count in sorted(frequency_dict.items()):\n",
        "            print(f\"🔹 {num}: {count} time(s)\")\n",
        "    else:\n",
        "        print(\"⚠️ No numbers were entered.\")\n",
        "\n",
        "    print(\"\\n✅ Thank you for using the Number Frequency Counter! 🚀\")\n",
        "\n",
        "# Run the script when executed\n",
        "if __name__ == \"__main__\":\n",
        "    count_frequencies()"
      ],
      "metadata": {
        "colab": {
          "base_uri": "https://localhost:8080/"
        },
        "id": "oo-9daMpntOO",
        "outputId": "585ca5be-4b23-42d2-fd70-0a3368737f2d"
      },
      "execution_count": 1,
      "outputs": [
        {
          "output_type": "stream",
          "name": "stdout",
          "text": [
            "\n",
            "🔢 Welcome to the Number Frequency Counter!\n",
            "ℹ️  Enter numbers one by one. Press Enter without input to finish.\n",
            "\n",
            "Enter a number (or press Enter to finish): 3\n",
            "Enter a number (or press Enter to finish): 5\n",
            "Enter a number (or press Enter to finish): 6\n",
            "Enter a number (or press Enter to finish): \n",
            "\n",
            "📊 Number Frequency Results:\n",
            "🔹 3: 1 time(s)\n",
            "🔹 5: 1 time(s)\n",
            "🔹 6: 1 time(s)\n",
            "\n",
            "✅ Thank you for using the Number Frequency Counter! 🚀\n"
          ]
        }
      ]
    },
    {
      "cell_type": "markdown",
      "source": [
        "**01. PhoneBook**"
      ],
      "metadata": {
        "id": "9bsyRcn_n72H"
      }
    },
    {
      "cell_type": "code",
      "source": [
        "def read_phone_numbers():\n",
        "    \"\"\"\n",
        "    Ask the user for names/numbers to store in a phonebook (dictionary).\n",
        "    Returns the phonebook.\n",
        "    \"\"\"\n",
        "    phonebook = {}  # Create empty phonebook\n",
        "    while True:\n",
        "        name = input(\"Name: \")\n",
        "        if name == \"\":\n",
        "            break\n",
        "        number = input(\"Number: \")\n",
        "        phonebook[name] = number\n",
        "    return phonebook\n",
        "\n",
        "def print_phonebook(phonebook):\n",
        "    \"\"\"\n",
        "    Prints out all the names/numbers in the phonebook.\n",
        "    \"\"\"\n",
        "    print(\"\\nPhonebook Entries:\")\n",
        "    for name, number in phonebook.items():\n",
        "        print(f\"{name} -> {number}\")\n",
        "\n",
        "def lookup_numbers(phonebook):\n",
        "    \"\"\"\n",
        "    Allow the user to lookup phone numbers in the phonebook\n",
        "    by looking up the number associated with a name.\n",
        "    \"\"\"\n",
        "    while True:\n",
        "        name = input(\"Enter name to lookup (or press Enter to exit): \")\n",
        "        if name == \"\":\n",
        "            break\n",
        "        if name not in phonebook:\n",
        "            print(f\"{name} is not in the phonebook.\")\n",
        "        else:\n",
        "            print(f\"{name} -> {phonebook[name]}\")\n",
        "\n",
        "def main():\n",
        "    phonebook = read_phone_numbers()\n",
        "    print_phonebook(phonebook)\n",
        "    lookup_numbers(phonebook)\n",
        "\n",
        "if __name__ == '__main__':\n",
        "    main()\n"
      ],
      "metadata": {
        "id": "N7Yc81I_n_eQ"
      },
      "execution_count": null,
      "outputs": []
    },
    {
      "cell_type": "markdown",
      "source": [
        "**02. Pop up Shop**"
      ],
      "metadata": {
        "id": "0S4lKWzkoQNK"
      }
    },
    {
      "cell_type": "code",
      "source": [
        "def main():\n",
        "    \"\"\"Calculates the total cost of fruits based on user input.\"\"\"\n",
        "\n",
        "    # Dictionary storing fruit names and their prices per unit ($)\n",
        "    fruits = {\n",
        "        'banana': 0.5,\n",
        "        'pineapple': 3.0,\n",
        "        'grapes': 2.5,\n",
        "        'strawberry': 4.0,\n",
        "        'watermelon': 7.0,\n",
        "        'blueberry': 6.5\n",
        "    }\n",
        "\n",
        "    total_cost = 0  # Variable to store total cost\n",
        "\n",
        "    # Loop through each fruit and ask the user for quantity\n",
        "    for fruit_name, price in fruits.items():\n",
        "        amount_bought = int(input(f\"How many ({fruit_name}) do you want to buy?: \"))\n",
        "        total_cost += price * amount_bought\n",
        "\n",
        "    # Display total amount\n",
        "    print(f\"\\n🛒 Your total is **${total_cost:.2f}**. Thank you for shopping! 🍉\")\n",
        "\n",
        "if __name__ == '__main__':\n",
        "    main()"
      ],
      "metadata": {
        "colab": {
          "base_uri": "https://localhost:8080/"
        },
        "id": "LzViARN9oZBS",
        "outputId": "b9eab1de-43f0-42de-eec7-bb63c0675d67"
      },
      "execution_count": 6,
      "outputs": [
        {
          "output_type": "stream",
          "name": "stdout",
          "text": [
            "How many (banana) do you want to buy?: 6\n",
            "How many (pineapple) do you want to buy?: 7\n",
            "How many (grapes) do you want to buy?: 4\n",
            "How many (strawberry) do you want to buy?: 3\n",
            "How many (watermelon) do you want to buy?: 8\n",
            "How many (blueberry) do you want to buy?: 7\n",
            "\n",
            "🛒 Your total is **$147.50**. Thank you for shopping! 🍉\n"
          ]
        }
      ]
    },
    {
      "cell_type": "markdown",
      "source": [
        "**03. Powerful Passward**"
      ],
      "metadata": {
        "id": "lmPf20KDollL"
      }
    },
    {
      "cell_type": "code",
      "source": [
        "from hashlib import sha256\n",
        "\n",
        "def hash_password(password):\n",
        "    \"\"\"\n",
        "    Takes in a password and returns the SHA256 hashed value for that specific password.\n",
        "    \"\"\"\n",
        "    return sha256(password.encode()).hexdigest()\n",
        "\n",
        "def login(email, stored_logins, password_to_check):\n",
        "    \"\"\"\n",
        "    Returns True if the hash of the password we are checking matches the one in stored_logins\n",
        "    for a specific email. Otherwise, returns False.\n",
        "    \"\"\"\n",
        "    return stored_logins.get(email) == hash_password(password_to_check)\n",
        "\n",
        "def main():\n",
        "    \"\"\"\n",
        "    Simulates a simple secure login system.\n",
        "    \"\"\"\n",
        "    stored_logins = {\n",
        "        \"user1@example.com\": \"3a5b2c1f8d6e9f7a2b4c6d1e5f8a9b3c7d2e4f1a6c8b5d9e7f3a2c4b1d6e8f9\",\n",
        "        \"hello@secure.com\": \"b7c3e8f9a2d1b5c6f3e4a7d2c8b1f9e6a3d5c2b4f7e8a9d6c1b3f5e4a7c2d9f8\",\n",
        "        \"admin@mysite.com\": \"9e7f3a2c4b1d6e8f5a7c3b2d1f9e6a4c8b5d2f7a9e3c1b6f4a5d2e8c7b3f9a1\"\n",
        "    }\n",
        "\n",
        "    email = input(\"📧 Enter your email: \")\n",
        "    password = input(\"🔑 Enter your password: \")\n",
        "\n",
        "    if login(email, stored_logins, password):\n",
        "        print(\"✅ Login successful! Welcome! 🎉\")\n",
        "    else:\n",
        "        print(\"❌ Login failed. Invalid email or password. Please try again. 🔐\")\n",
        "\n",
        "if __name__ == '__main__':\n",
        "    main()"
      ],
      "metadata": {
        "id": "KxfUxOqKosuf"
      },
      "execution_count": null,
      "outputs": []
    }
  ]
}